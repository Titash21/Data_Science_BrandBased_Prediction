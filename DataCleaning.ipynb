{
 "cells": [
  {
   "cell_type": "markdown",
   "metadata": {},
   "source": [
    "### Importing necessary libraries"
   ]
  },
  {
   "cell_type": "code",
   "execution_count": 1,
   "metadata": {
    "collapsed": true
   },
   "outputs": [],
   "source": [
    "import csv\n",
    "import pandas as pd\n",
    "import numpy as np\n",
    "import sys\n",
    "from scipy import stats\n",
    "import matplotlib.pyplot as plt\n",
    "%matplotlib inline\n",
    "pd.set_option('display.max_columns',  26)"
   ]
  },
  {
   "cell_type": "markdown",
   "metadata": {},
   "source": [
    "### Reading csv file for data"
   ]
  },
  {
   "cell_type": "code",
   "execution_count": 2,
   "metadata": {
    "scrolled": true
   },
   "outputs": [
    {
     "name": "stderr",
     "output_type": "stream",
     "text": [
      "C:\\Users\\Jayesh\\Anaconda3\\lib\\site-packages\\IPython\\core\\interactiveshell.py:2698: DtypeWarning: Columns (36,53,57,59,64,69,70,71,72,73,74,76,77,78,82) have mixed types. Specify dtype option on import or set low_memory=False.\n",
      "  interactivity=interactivity, compiler=compiler, result=result)\n"
     ]
    }
   ],
   "source": [
    "data = pd.read_csv('Dataset.csv',encoding='utf-8')\n",
    "data = data[data.nppes_provider_country=='US'] #Selecting country as 'US'\n",
    "data = data[~data['nppes_provider_state'].isin(['AA', 'AE', 'AP', 'AS', 'GU', 'MP', 'VI', 'XX', 'ZZ'])] #Removing incorrect states"
   ]
  },
  {
   "cell_type": "markdown",
   "metadata": {},
   "source": [
    "### Cleaning values in credentials column"
   ]
  },
  {
   "cell_type": "code",
   "execution_count": 3,
   "metadata": {
    "collapsed": true
   },
   "outputs": [],
   "source": [
    "# Credential column consists of slew of distinct qualification held by the doctors. \n",
    "data['nppes_credentials'] = data['nppes_credentials'].astype('str')\n",
    "data['nppes_credentials'] = data['nppes_credentials'].replace(\"nan\", \"NOT LISTED\")\n",
    "data['nppes_credentials'] = data['nppes_credentials'].replace([\"APMHNP\",\"APMHNP - BC\",\"APMH-NP BC\",\"APMHNP, FNP\",\"APMHNP/CNS\",\"APMHNP-BC\"\"APMHNP-BC, ARNP, MSN\",],\"APMHNP\")\n",
    "data['nppes_credentials'] = data['nppes_credentials'].replace([\"A P R N\",\"A PRN\",\"A R N P\",\"A,P.R.N.\",\"A. N.P., N.P.\",\"A. P. N.\"\"A. P. R. N.\",\"A. R. N. P.\",\"A.A.R.N.P.\",\"A.C.N.P\",\"A.C.N.P.\",\"A.C.N.P. - B.C.\",\"A.C.N.P., R.N.\",\"A.C.N.P.-B.C.\",\"A.C.N.P.-BC., RN\",\"A.D.,R.N.,B.S.N,MSN,\",\"A.G.A.C.N.P\",\"A.G.N.P.-BC\",\"A.G.P.C.N.P.-BC\",\"A.N. P.\",\"A.N.P\",\"A.N.P,\",\"A.N.P.\",\"A.N.P. - B.C.\",\"A.N.P., F.N.P\",\"A.N.P., G.N.P.\",\"A.N.P., P.N.P.\",\"A.N.P., R.N.\",\"A.N.P.-B.C\",\"A.N.P.-B.C.\",\"A.N.P.-BC\",\"A.N.P.-C\",\"A.N.P.C.\",\"A.N.P.-C.\",\"A.N.P/F.N.P\",\"A.N.P-BC\",\"A.N.R.P.\",\"A.P.\",\"A.P. N.\",\"A.P.N\",\"A.P.N.\",\"A.P.N. CCNS\",\"A.P.N., B.C.\",\"A.P.N., C\",\"A.P.N., C.\",\"A.P.N., C.N.M.\",\"A.P.N., C.N.P.\",\"A.P.N., F.N.P.\",\"A.P.N., L.P.C.\",\"A.P.N.,C\",\"A.P.N.,C.\",\"A.P.N./G.N.P.\",\"A.P.N.-B.C.\",\"A.P.N.-C\",\"A.P.N.-C, MSN\",\"A.P.N.P\",\"A.P.N.P, PHD\",\"A.P.N.P.\",\"A.P.N-C.\",\"A.P.R.N\",\"A.P.R.N, B.C.\",\"A.P.R.N, MSN\",\"A.P.R.N.\",\"A.P.R.N. BC\",\"A.P.R.N. N.P.\",\"A.P.R.N., B.C.\",\"A.P.R.N., B.C., N.P.\",\"A.P.R.N., BC\",\"A.P.R.N., C.N, M,\",\"A.P.R.N., CNP\",\"A.P.R.N., F.N.P.\",\"A.P.R.N., M.S.N.\",\"A.P.R.N., N.P.\",\"A.P.R.N., NP-C\",\"A.P.R.N., R.N.\",\"A.P.R.N., W.H.N.P.\",\"A.P.R.N.,B.C.\",\"A.P.R.N.,B.C.,A.N.P\",\"A.P.R.N.,B.C.,N.P.P.\",\"A.P.R.N./FNP/MSN\",\"A.P.R.N.-B.C.\",\"A.P.R.N.-BC\",\"A.P.R.N.C.S, M.ED\",\"A.P.R.N.-F.N.P\",\"A.P.R.N-C\",\"A.R.N.P\",\"A.R.N.P  F.N.P\",\"A.R.N.P, C.S, PH.D\",\"A.R.N.P, FNP-BC\",\"A.R.N.P.\",\"A.R.N.P. , PMHNP-BC\",\"A.R.N.P.- B.C.\",\"A.R.N.P. M.S.N.\",\"A.R.N.P., B.C.\",\"A.R.N.P., C.N.M.\",\"A.R.N.P., C.P.N.P.\",\"A.R.N.P., G.N.P.\",\"A.R.N.P., M.H.N.P\",\"A.R.N.P., M.S.N\",\"A.R.N.P., NP-C\",\"A.R.N.P., PH.D\",\"A.R.N.P., PHD.\",\"A.R.N.P., W.H.C.N.P.\",\"A.R.N.P.-B.C.\",\"A.R.N.P.-C\",\"A.R.N.P.C.\",\"A.R.N.P.-C., M.S.N.\",\"A.R.N.P/\",\"A.R.N.P-C\",\"A.T.,C., R.N., APRN\",\"A/G. N.P.\",\"A/G.N.P.\",\"A/GNP\",\"A/GNP - BC\",\"A/GNP-C\",\"AC NP\",\"ACCNP\",\"ACNP\",\"ACNP - BC\",\"ACNP BC\",\"ACNP -BC\",\"ACNP C\",\"ACNP CS CCRN\",\"ACNP RN\",\"ACNP, ACNS, APRN,BC\",\"ACNP, AGACNP, APRN\",\"ACNP, ANP\",\"ACNP, ANP, CNS\",\"ACNP, AOCNP\",\"ACNP, APRN\",\"ACNP, APRN, BC\",\"ACNP, APRN,BC\",\"ACNP, APRN-BC\",\"ACNP, APRN-BC, MSN,\",\"ACNP, BC\",\"ACNP, BC, RNFA\",\"ACNP, CCRN\",\"ACNP, CNS\",\"ACNP, CNS, RNFA\",\"ACNP, CRNFA\",\"ACNP, DNP\",\"ACNP, FNP\",\"ACNP, FNP-BC\",\"ACNP, MHA\",\"ACNP, MSN\",\"ACNP, MSN, CRNP\",\"ACNP, PHD\",\"ACNP, RN\",\"ACNP,ANP\",\"ACNP,BC\",\"ACNP,MSN,APRN,BC,FNP\",\"ACNP/FNP\",\"ACNP/FNP-BC\",\"ACNP-AG\",\"ACNP-BC\",\"ACNP-BC,\",\"ACNP-BC,  APRN\",\"ACNP-BC, ANP-BC\",\"ACNP-BC, AOCNP\",\"ACNP-BC, APN\",\"ACNP-BC, APNP\",\"ACNP-BC, APRN\",\"ACNP-BC, FNP-BC\",\"ACNP-BC, MSN\",\"ACNP-BC, NP-C\",\"ACNP-BC, RN\",\"ACNP-BC, RN, ATC\",\"ACNP-BC, WCC,GNP-BC\",\"ACNP-BC,FNP-C\",\"ACNP-BC; R.N.\",\"ACNPC\",\"ACNP-C\",\"ACNP-C, RN, RNFA\",\"ACNPC-AG\",\"ACNP-CS\",\"ACNP-CS, MS, RN\",\"ACNS\",\"ACNS, BC\",\"ACNS, FNP\",\"ACNS, FNP-C\",\"ACNS-BC\",\"ACNS-BC, AOCN\",\"ACNS-BC, APN\",\"ACNS-BC, CNP-BC\",\"ACNS-BC, FNP-BC\",\"ACNS-BC, NP-C\",\"ACNS-BC, RN\",\"ACNS-BS\",\"ACPN\",\"ACPN-BC\",\"ACPRN-C\",\"ADT NURSE PRACTIONER\",\"ADT NURSING PRAC ANP\",\"ADULT  NP\",\"ADULT ACUTE CARE NP\",\"ADULT NP\",\"ADULT NP, BC\",\"ADULT NP, MS\",\"ADULT NURSE PRACT\",\"ADULT NURSE PRACTITI\",\"ADULT PMHNP\",\"ADULT PSYCH MH NP\",\"ADULT PSYCH NP\",\"ADULT/G.N.P., M.S.N\",\"ADULT/GERIATRIC NP\",\"ADV NURSE PRAC\",\"ADV PRACTICAL NURSE\",\"ADV PRACTICE NURSE\",\"ADV PRACTICE RN\",\"ADV PRACTITIONER\",\"ADVANCE NP\",\"ADVANCE NURSE PRACTI\",\"ADVANCE PRACTICE NUR\",\"ADVANCE PRACTICE REG\",\"ADVANCED NURSE PRACI\",\"ADVANCED NURSE PRACT\",\"ADVANCED PRAC NURSE\",\"ADVANCED PRACTICE NU\",\"ADVANCED PRACTITCE\",\"ADVANCED RN PRACT\",\"ADVCD PRACTICE NURSE\",\"AFNP\",\"A-G NP\",\"AGACNP\",\"AG-ACNP\",\"AGACNP-BC\",\"AGACNP-BC, FNP-BC\",\"AGNP\",\"A-GNP\",\"AGNP RN\",\"AGNP, R.N.\",\"AGNP-BC\",\"AGNPC\",\"AGNP-C\",\"A-GNPC\",\"AGPCNP\",\"AGPC-NP\",\"AGPCNP-BC\",\"AHCNS\",\"AHCNS-BC\",\"AHNP\",\"AHNP & BC\",\"AHNP-BC\",\"AHP, ACNP\",\"AHP, NP\",\"ALI AGHAMOHAMMADI MD\",\"ALLISON SEAMON\",\"AMD\",\"A-MHNP\",\"AMP\",\"AMY FRANKLIN, PA-C\",\"AN  OPTOMETRIC CORP\",\"ANCC\",\"ANCC, FNP\",\"ANCP\",\"ANCP-BC\",\"ANCP-C\",\"AND, BSN, MS, ANP\",\"ANDREW KASPER, M.D.\",\"ANGELA  HUANG\",\"ANISH PETER\",\"ANJANA DWIVEDI, M.D.\",\"ANNA ANSALDO M.D\",\"ANNA RABINOV\",\"ANNA TAVAKKOLI M.D.\",\"ANP\",\"A-NP\",\"ANP - BC\",\"ANP - BC, GNP\",\"ANP - C\",\"ANP  GNP\",\"ANP (FNP)\",\"ANP , LAC\",\"ANP / FNP\",\"ANP ACNP\",\"ANP AND GNP\",\"ANP APPLICANT\",\"ANP BC\",\"ANP B-C\",\"ANP- BC\",\"ANP C\",\"ANP CDE\",\"ANP CNM\",\"ANP FAMILY NURSE PRA\",\"ANP FNP-BC\",\"ANP GNP\",\"ANP MS\",\"ANP MSN\",\"ANP RN\",\"ANP RNC\",\"ANP RX\",\"ANP WHNP\",\"ANP, ACNP-BC\",\"ANP, ANP-BC\",\"ANP, APNP\",\"ANP, APRN\",\"ANP, APRN, BC\",\"ANP, BC\",\"ANP, C\",\"ANP, CDCII\",\"ANP, CDE\",\"ANP, CNS/PMH\",\"ANP, EDD\",\"ANP, FNP\",\"ANP, FNP, DNP\",\"ANP, FNP-BC\",\"ANP, GCNS\",\"ANP, GNP\",\"ANP, GNP, FNP\",\"ANP, GNP, MS, CDE\",\"ANP, GNP-BC\",\"ANP, MN, RN NP-C\",\"ANP, MPH\",\"ANP, MS\",\"ANP, MS, RN\",\"ANP, MSN, BSN, RN\",\"ANP, MSN, CDN\",\"ANP, MSN, RN\",\"ANP, PHD\",\"ANP, PMHCNS\",\"ANP, PMHNP\",\"ANP, PMHNP,MN, BC\",\"ANP, PMHS,  PMHNP-BC\",\"ANP, RN\",\"ANP, RN, IBCLC\",\"ANP, RN, MS\",\"ANP, RN, PSY. A.\",\"ANP, WHNP\",\"ANP, WHNP, RN\",\"ANP,BC\",\"ANP,C\",\"ANP,C  GNP\",\"ANP,CACP\",\"ANP,DNS\",\"ANP,FNP\",\"ANP,GNP,BC\",\"ANP,MSN\",\"ANP,MSN,RN\",\"ANP,WHNP\",\"ANP.\",\"ANP.C\",\"ANP/CNP\",\"ANP/GNP\",\"ANP/GNP-C\",\"ANP/LPA\",\"ANP-B C\",\"ANP-B.C.\",\"ANPBC\",\"ANP-BC\",\"ANP-BC  APNP\",\"ANP-BC (CRNP)\",\"ANP-BC APRN\",\"ANP-BC LPC MAC\",\"ANP-BC, ACHPN\",\"ANP-BC, ACNP-BC\",\"ANP-BC, ACNP-BC,APRN\",\"ANP-BC, AOCN\",\"ANP-BC, AOCNP\",\"ANP-BC, AOCNS\",\"ANP-BC, APN\",\"ANP-BC, C.N.P.\",\"ANP-BC, CCD\",\"ANP-BC, CPNP-PC\",\"ANP-BC, CRNP\",\"ANP-BC, FNP-BC\",\"ANP-BC, FNP-C\",\"ANP-BC, GNP\",\"ANP-BC, GNP, RN-BSN\",\"ANP-BC, GNP-BC\",\"ANP-BC, GNP-BC, CDE\",\"ANP-BC, GNP-BC, RN\",\"ANP-BC, MS,\",\"ANP-BC, MSN\",\"ANP-BC, MSN, CURN\",\"ANP-BC, NP-C\",\"ANP-BC, OCN\",\"ANP-BC, OCN, CHPN\",\"ANP-BC, PHD\",\"ANP-BC, PMHNP-BC\",\"ANP-BC, RN\",\"ANP-BC, RN, NP\",\"ANP-BC, WHNP-BC\",\"ANP-BC,ACNP-BC, CCNS\",\"ANP-BC,FNP-BC,DNP\",\"ANP-BC,MS, RN\",\"ANP-BC. M.S.\",\"ANP-BC; PMHNP-BC\",\"ANPC\",\"ANP-C\",\"ANP-C , PC\",\"ANPC MSN RNC\",\"ANP-C, AOCNP\",\"ANP-C, CNS\",\"ANP-C, FNP-C, GNP-C\",\"ANP-C, GNP-BC\",\"ANP-C, GNP-BC, ACHPN\",\"ANP-C, GNP-C\",\"ANP-C, MSN\",\"ANP-C, RN\",\"ANP-C, RNFA\",\"ANP-C, WHNP-BC, APRN\",\"ANP-C,CNP\",\"ANP-C,FNP\",\"ANP-C; GNP-C\",\"ANP-FNP\",\"ANP-FNP-BC\",\"ANP-GNP\",\"ANP-LPA\",\"ANPP\",\"ANP-PP\",\"ANRP\",\"ANRP, FNP\",\"AOCNP\",\"AOCNP, ACNP\",\"AOCNP, ARNP\",\"AOCNP, MSN\",\"AP RN\",\"AP RN  CS\",\"AP RN BC\",\"APCNS\",\"APMHMP\",\"APMHN\",\"APN\",\"APN   FNP\",\"APN  BC\",\"APN - BC\",\"APN - C\",\"APN - FNP\",\"APN - RN\",\"APN (ADVANCED NURSE\",\"APN (NP)\",\"APN , DNP\",\"APN , WHNP\",\"APN ,ACNP-BC\",\"APN / CNS\",\"APN BC\",\"APN BC FNP\",\"APN C\",\"APN CANP\",\"APN CDE\",\"APN CFNP\",\"APN CNM\",\"APN CNP\",\"APN CNP CDE\",\"APN CNS\",\"APN CNS CWOCN\",\"APN CRNFA\",\"APN FNP\",\"APN FNP-BC\",\"APN FNP-C\",\"APN MSN\",\"APN NP\",\"APN- NP\",\"APN NP C\",\"APN NP-C\",\"APN- NP-C\",\"APN PA\",\"APN RN\",\"APN RN FNP WHNP NURS\",\"APN RNP\",\"APN WHNP\",\"APN,\",\"APN,  FNP-C\",\"APN, ACNP-BC\",\"APN, ACNS-BC\",\"APN, ANP-BC\",\"APN, ANP-BC, MSN\",\"APN, ANP-C\",\"APN, BC\",\"APN, BC, CADC\",\"APN, BC, FNP\",\"APN, BC-FNP\",\"APN, C\",\"APN, C.\",\"APN, C.N.P.\",\"APN, CCNS\",\"APN, CCNS-BC\",\"APN, CCRN,ACNP-BC\",\"APN, CDE\",\"APN, CEN, CNL\",\"APN, CFNP\",\"APN, C-FNP\",\"APN, CFNP-BC\",\"APN, CNM\",\"APN, CNM, MSN\",\"APN, CNM, WHNP, MSN\",\"APN, CNP\",\"APN, CNP, RN\",\"APN, CNS\",\"APN, CPN\",\"APN, CPNP-PC\",\"APN, CRNP\",\"APN, CS.\",\"APN, CWCN\",\"APN, DNP\",\"APN, DNSC\",\"APN, FMHNP-BC\",\"APN, FNP\",\"APN, FNP,  NP - C\",\"APN, FNP-BC\",\"APN, FNP-BC, FNP-C\",\"APN, FNP-BC, MSN, RN\",\"APN, FNP-BC, RN\",\"APN, FNP-C\",\"APN, GCNS-BC\",\"APN, GNP\",\"APN, HSN\",\"APN, LAT\",\"APN, LCADC\",\"APN, LMSW\",\"APN, MAPC\",\"APN, MSN\",\"APN, MSN, ACNP, BC\",\"APN, MSN, ANP-BC,OCN\",\"APN, MSN, FNP-BC\",\"APN, MSN, FNP-C\",\"APN, NP\",\"APN, NP.C.\",\"APN, NPA, RN\",\"APN, NP-BC, CCNS\",\"APN, NP-C\",\"APN, NP-C, MS\",\"APN, PMHCNS-BC\",\"APN, PMHNP - BC\",\"APN, PMHNP, BC\",\"APN, PMHNP-BC\",\"APN, RN\",\"APN, RN, ACNP-BC\",\"APN, RNC\",\"APN, WHNP\",\"APN, WHNP, MS\",\"APN,BC\",\"APN,C\",\"APN,C.\",\"APN,-CCNS , CNP\",\"APN,CNM\",\"APN,CNP\",\"APN,CNS\",\"APN,CNS,PMHNP\",\"APN,CWOCN\",\"APN,FNP\",\"APN,FNP-BC\",\"APN,FNP-BC, NP-C\",\"APN,FNP-C\",\"APN,NP-C\",\"APN,RN\",\"APN.\",\"APN.C\",\"APN/ANP-BC\",\"APN/ANP-BC, NP-C\",\"APN/CNM\",\"APN/CNP\",\"APN/CNS\",\"APN/CPNP\",\"APN/FNP\",\"APN/FNP-BC\",\"APN/NP\",\"APN/RN\",\"APN; LMFT\",\"APN-ACNP\",\"APN-ADULT NP\",\"APNBC\",\"APN-BC\",\"APN-BC ACNP\",\"APN-BC FNP\",\"APN-BC,\",\"APN-BC, ACNS-BC\",\"APN-BC, APNP, RN\",\"APN-BC, FNP\",\"APN-BC, MSN, RN\",\"APN-BC, NP-C\",\"APNC\",\"APN-C\",\"APNC FNP\",\"APNC RNC\",\"APN-C, CNS-C\",\"APN-C, CRNP FNP\",\"APN-C, MSN\",\"APN-C, RN, OCN, MS\",\"APNC, RNFA, CNOR\",\"APNC,MSN\",\"APNC-APNP\",\"APN-CCNS, CNP\",\"APNCFNP\",\"APN-CFNP\",\"APNCNP\",\"APN-CNP\",\"APN-CNS\",\"APN-CNS-BC\",\"APNFNP\",\"APN-FNP\",\"APN-FNP-BC\",\"APN-NP\",\"APNP\",\"APNP APN\",\"APNP BC\",\"APNP FNP-BC\",\"APNP GNP-BC\",\"APNP RN\",\"APNP, ANP, PMHNP-BC\",\"APNP, ANP-BC\",\"APNP, ANP-BC, RN\",\"APNP, BC\",\"APNP, DNP\",\"APNP, FNP\",\"APNP, MSN\",\"APNP, MSN, BSN\",\"APNP, NP-C\",\"APNP, PH.D\",\"APNP, PMHCNS-BC, RN\",\"APNP, PMHNP-BC\",\"APNP, RN\",\"APNP,FNP-C,MSN,APRN\",\"APNP/BC\",\"APNP; EAMP\",\"APNP-BC\",\"APNP-BC; GNP; MAN;\",\"APPN\",\"APPN, FNP-BC\",\"APRB,BC, FNP\",\"APRN\",\"APRN   FNP\",\"APRN - ANP\",\"APRN  BC\",\"APRN - BC\",\"APRN  BC  CNS\",\"APRN - BC, RN-C\",\"APRN - CNP\",\"APRN  CNS PSYCH\",\"APRN - FNP\",\"APRN  FNP-BC\",\"APRN  FNP-C\",\"APRN - PMHNP-BC\",\"APRN (N.P)\",\"APRN (NP)\",\"APRN ,BC\",\"APRN / NP\",\"APRN ANP\",\"APRN ANP-C\",\"APRN BC\",\"APRN- BC\",\"APRN BC ADULT PSYCH\",\"APRN BC CADAC\",\"APRN BC CNS/PMH\",\"APRN BC CS\",\"APRN BC FAMILY NURSE\",\"APRN BC FNP\",\"APRN BC FNPC\",\"APRN BC GNP\",\"APRN BC MSN CNP\",\"APRN BC NP\",\"APRN BC NP DNP\",\"APRN BC PC\",\"APRN BC PMHNP\",\"APRN BC PSYCH CLINIC\",\"APRN BC PSYCH NP\",\"APRN BC RNCS\",\"APRN BC, DNSC\",\"APRN BC, FNP\",\"APRN -BC, FNP\",\"APRN BE CNS\",\"APRN C\",\"APRN CARNAP\",\"APRN CFNP\",\"APRN C-FNP\",\"APRN CLINICAL NURSE\",\"APRN CLINICAL SPECIA\",\"APRN CNM\",\"APRN CNM MPH\",\"APRN CNP\",\"APRN C-NP\",\"APRN- CNP\",\"APRN CNP CNS\",\"APRN CNP FAMILY\",\"APRN CNS\",\"APRN- CNS\",\"APRN CNS-BC\",\"APRN CRNP PMH\",\"APRN CS (RN PC)\",\"APRN FNP\",\"APRN- FNP\",\"APRN FNP BC\",\"APRN FNPBC\",\"APRN FNP-BC\",\"APRN FNP-BC MSN CDE\",\"APRN FNP-BC; GNP-BC\",\"APRN FNPC\",\"APRN FNP-C\",\"APRN GNP-BC\",\"APRN GPN\",\"APRN MS BC\",\"APRN MSN\",\"APRN MSN BC\",\"APRN MSN FNP BC\",\"APRN MSN FNP CS\",\"APRN MSN GNP\",\"APRN MSN GNP APNP\",\"APRN NP\",\"APRN -NP\",\"APRN NP- C\",\"APRN NP FNP\",\"APRN NPC\",\"APRN NP-C\",\"APRN NPFP\",\"APRN NPSYCH PMHNP\",\"APRN PC\",\"APRN PCNS\",\"APRN PH.D.\",\"APRN PHD\",\"APRN PHD MSW\",\"APRN PMHNP-BC\",\"APRN RN NP\",\"APRN STUDENT\",\"APRN W PP SUB\",\"APRN WHNP\",\"APRN,\",\"APRN,  BC, RNCS\",\"APRN,  FNP-BC\",\"APRN,  NP\",\"APRN, A.C.N.S.-BC\",\"APRN, A/GNP, CWOCN\",\"APRN, ACNP\",\"APRN, ACNP-BC\",\"APRN, ACNS-BC\",\"APRN, ADULT PMHNP-BC\",\"APRN, AGPCNP-BC\",\"APRN, ANP\",\"APRN, ANP-BC\",\"APRN, ANP-BC, GNP-BC\",\"APRN, ANP-C\",\"APRN, APMHNP\",\"APRN, APMH-NP\",\"APRN, APNP\",\"APRN, APNP, FNP-BC\",\"APRN, B.C.\",\"APRN, BC\",\"APRN, BC  NP-C\",\"APRN, BC (NURSEPRACT\",\"APRN, BC FNP\",\"APRN, BC MSN CCM MA\",\"APRN, BC, ANP\",\"APRN, BC, AOCNP\",\"APRN, BC, APNP\",\"APRN, BC, CCI\",\"APRN, BC, CCRN\",\"APRN, BC, CDE\",\"APRN, BC, CGP\",\"APRN, BC, CNN\",\"APRN, BC, CNS\",\"APRN, BC, CS\",\"APRN, BC, CWOCN,CFNC\",\"APRN, BC, FNP\",\"APRN, BC, FNP, GNP\",\"APRN, BC, FNP-C\",\"APRN, BC, FNPGNP\",\"APRN, BC, FNP-LPA\",\"APRN, BC, GNP\",\"APRN, BC, GNP, FNP-C\",\"APRN, BC, LCADC\",\"APRN, BC, LISW\",\"APRN, BC, LLC\",\"APRN, BC, MS, CDE\",\"APRN, BC, MS, MSN\",\"APRN, BC, MSN, ACNP\",\"APRN, BC, MSN, CWS\",\"APRN, BC, MSN, ENP\",\"APRN, BC, MSN, FNP\",\"APRN, BC, NP\",\"APRN, BC, NP, CDE\",\"APRN, BC, NP-C\",\"APRN, BC, RN\",\"APRN, BC., NP-C\",\"APRN, BC/FNP\",\"APRN, BC; NP-C\",\"APRN, BC-ADM\",\"APRN, BC-ADM, CDE\",\"APRN, BC-CDE\",\"APRN, BC-F\",\"APRN, BC-FNP\",\"APRN, BC-PCM\",\"APRN, BS\",\"APRN, BSN, MSN, FNP\",\"APRN, CCNS\",\"APRN, CCNS, RN\",\"APRN, CCNS, RN, MSN\",\"APRN, CCRN\",\"APRN, CDE\",\"APRN, CEN\",\"APRN, CFNP\",\"APRN, C-FNP\",\"APRN, CFNP, MSN, RNC\",\"APRN, CLINICAL NURSE\",\"APRN, CNM\",\"APRN, CNP\",\"APRN, C-NP\",\"APRN, CNP, AGACNP-BC\",\"APRN, CNP, FNP, PNP\",\"APRN, CNS\",\"APRN, CNS BC, PH.D.\",\"APRN, CNS, BC\",\"APRN, CNS, RXN\",\"APRN, CNS.\",\"APRN, CNS/PMH-BC\",\"APRN, CNS-BC\",\"APRN, CNS-BC, CWOCN\",\"APRN, CNSPMH\",\"APRN, CPNP\",\"APRN, C-PNP\",\"APRN, CPNP-PC\",\"APRN, CRNA\",\"APRN, CRNP\",\"APRN, CRNP-F\",\"APRN, CS\",\"APRN, CSAC, CCDP-AP\",\"APRN, CWOCN\",\"APRN, DNP\",\"APRN, DNP, FNP\",\"APRN, DNP, FNP-BC\",\"APRN, DNPC\",\"APRN, EDD\",\"APRN, FNP\",\"APRN, FNP- BC\",\"APRN, FNP C\",\"APRN, FNP, ANP\",\"APRN, FNP, BC\",\"APRN, FNP, C\",\"APRN, FNP, CNP\",\"APRN, FNP, PMHNP\",\"APRN, FNP, RN\",\"APRN, FNP,CEN\",\"APRN, FNP-BC\",\"APRN, FNP-BC, CDE\",\"APRN, FNP-BC, NP-C\",\"APRN, FNPC\",\"APRN, FNP-C\",\"APRN, FNP-C, BC\",\"APRN, FNP-C, MN\",\"APRN, FNP-C, PNP-C\",\"APRN, FPMHNP\",\"APRN, FPMHNP-BC\",\"APRN, FPMH-NP-BC\",\"APRN, GNP-BC\",\"APRN, LADC, RN\",\"APRN, LCSW, LADC\",\"APRN, LMFT\",\"APRN, MA\",\"APRN, MN, FNP-C\",\"APRN, MPA, MS\",\"APRN, MS\",\"APRN, MS, ACNP-BC\",\"APRN, MS, BC\",\"APRN, MS, FNP-C\",\"APRN, MS, LS\",\"APRN, MS, MPH\",\"APRN, MSCN\",\"APRN, MSN\",\"APRN, MSN, ACNP\",\"APRN, MSN, BC\",\"APRN, MSN, CCNS\",\"APRN, MSN, CCRN-CSC\",\"APRN, MSN, CDE\",\"APRN, MSN, CNS\",\"APRN, MSN, CRNP\",\"APRN, MSN, CS\",\"APRN, MSN, CS, BC\",\"APRN, MSN, FNP\",\"APRN, MSN, FNP, BC\",\"APRN, MSN, FNP-BC\",\"APRN, MSN, FNP-C\",\"APRN, MSN, MPH, DNP\",\"APRN, MSN, NP-C\",\"APRN, MSN, PHD, EJD\",\"APRN, ND, PMHNP-BC\",\"APRN, NP\",\"APRN, NP- C\",\"APRN, NP,CNS, BC\",\"APRN, NP-BC\",\"APRN, NPC\",\"APRN, NP-C\",\"APRN, NP-C, RN-BC\",\"APRN, NP-P, BC\",\"APRN, PC\",\"APRN, PC, FNP\",\"APRN, PCNS\",\"APRN, PCS\",\"APRN, PHD\",\"APRN, PHD, CNS\",\"APRN, PHD.\",\"APRN, PMHCNS-BC\",\"APRN, PMHNP\",\"APRN, PMH-NP BC\",\"APRN, PMHNP, BC\",\"APRN, PMHNP, FNP-BC\",\"APRN, PMHNP-BC\",\"APRN, PMHNP-BC, RN\",\"APRN, PNP\",\"APRN, PP\",\"APRN, PSY.D.\",\"APRN, PSYCHIATRY LMF\",\"APRN, RD\",\"APRN, RN\",\"APRN, RN, BC\",\"APRN, RX FNP-BC\",\"APRN, SANE\",\"APRN, WHNP\",\"APRN, WHNP-BC\",\"APRN, WHNP-BC, CDE\",\"APRN,AOCN,MSN\",\"APRN,B.C.\",\"APRN,BC\",\"APRN,BC  CNS, NP\",\"APRN,BC  NP\",\"APRN,BC  NURSE PRACT\",\"APRN,BC (FNP)\",\"APRN,BC FNP\",\"APRN,BC,\",\"APRN,BC, ANP, GNP\",\"APRN,BC, FNP\",\"APRN,BC, MN, RNC\",\"APRN,BC,ACNP\",\"APRN,BC,ANP\",\"APRN,BC,CNS\",\"APRN,BC,CNS,FNP\",\"APRN,BC,FNP\",\"APRN,BC,GNP\",\"APRN,BC,MSN,MBA,CS\",\"APRN,BC,N.P\",\"APRN,BC,RN,CNS,PHD\",\"APRN,BC-ADM\",\"APRN,BC-ADM,CDE\",\"APRN,BC-FNP\",\"APRN,C\",\"APRN,CDE\",\"APRN,CDE,BC-ADM\",\"APRN,CFNP\",\"APRN,CNP\",\"APRN,CNS\",\"APRN,CNS,BC\",\"APRN,CS\",\"APRN,CS/NP\",\"APRN,FNP\",\"APRN,FNP-BC\",\"APRN,FNP-C\",\"APRN,MS,CCNS\",\"APRN,MSN\",\"APRN,MSN,BC,FNP\",\"APRN,MSN,FNP-C,PA-C\",\"APRN,NP\",\"APRN,NP-C\",\"APRN,NPP\",\"APRN,PC\",\"APRN,PC,BC\",\"APRN,PMHNP\",\"APRN,PMHNP-BC\",\"APRN.\",\"APRN. CNM\",\"APRN./CNM\",\"APRN.BC\",\"APRN.FNP\",\"APRN/ FNP\",\"APRN/ANP\",\"APRN/APMHNP\",\"APRN/BC\",\"APRN/BC, FNP\",\"APRN/CNM\",\"APRN/CNP\",\"APRN/CNS\",\"APRN/FNP\",\"APRN/FNP-C\",\"APRN/MASTER FNP\",\"APRN/NP\",\"APRN/NP-C\",\"APRN/PC\",\"APRN/PCNS\",\"APRN/PMH, CRNP-PMH\",\"APRN/PMH,BC\",\"APRN/RN\",\"APRN; BC\",\"APRN-ACNP\",\"APRN-ANP\",\"APRN-AOCNS\",\"APRN-B.C., PMHNP\",\"APRNBC\",\"APRN-BC\",\"APRN-BC CNS\",\"APRN-BC FNP\",\"APRN-BC GNP\",\"APRN-BC MSN\",\"APRN-BC NP\",\"APRN-BC OR MS,RN,CNS\",\"APRN-BC PMHNP\",\"APRN-BC RX\",\"APRN-BC, ADM\",\"APRN-BC, ANP\",\"APRN-BC, ANP, FNP\",\"APRN-BC, APNP\",\"APRN-BC, BC-ADM, NP\",\"APRN-BC, CADAC-II\",\"APRN-BC, CDE\",\"APRN-BC, CFNP\",\"APRN-BC, CNN-NP\",\"APRN-BC, C-NP\",\"APRN-BC, CNS\",\"APRN-BC, CRNP\",\"APRN-BC, CRNP-F\",\"APRNBC, CWCN\",\"APRN-BC, CWOCN\",\"APRNBC, FNP\",\"APRN-BC, FNP\",\"APRN-BC, FNP, PHD\",\"APRN-BC, FNP-C\",\"APRN-BC, FPMHNP\",\"APRN-BC, GNP\",\"APRN-BC, LPC,LMFT\",\"APRN-BC, MSN\",\"APRN-BC, MSN, FNP\",\"APRN-BC, ND\",\"APRN-BC, PMHNP\",\"APRN-BC, PMHNP, FNP\",\"APRN-BC, RN\",\"APRN-BC, RN/NP, LMHC\",\"APRN-BC, RN-C\",\"APRN-BC, RN-C, MSN\",\"APRN-BC, WHCNP, MSN.\",\"APRNBC,CDE\",\"APRN-BC,CNS-PMH\",\"APRN-BC,FNP\",\"APRN-BC,NP\",\"APRNBC,PMHNP\",\"APRN-BC/NURSE PRAC\",\"APRN-BC; FNP\",\"APRN-BC-CNSPMH\",\"APRN-BC-FNP\",\"APRNC\",\"APRN-C\",\"APRN-C   ANP\",\"APRNC CNM\",\"APRN-C PHD\",\"APRN-C, CNM,  IBCLC\",\"APRN-C, DNP\",\"APRN-C, DSN\",\"APRN-C, FNP\",\"APRN-C, MSN\",\"APRN-CNM\",\"APRNC-NP\",\"APRN-CNP\",\"APRN-C-NP\",\"APRN-CNP, CNS\",\"APRN-CNP,BC\",\"APRN-CNS\",\"APRN-CNS, MS\",\"APRNCS\",\"APRNCS, PMH-NP\",\"APRN-FAMILY\",\"APRN-FNP\",\"APRN-FNP, BC\",\"APRN-FNP-BC\",\"APRN-FNP-C\",\"APRN-FNP-CC\",\"APRN-GNP\",\"APRNI\",\"APRN-I\",\"APRN-INTERN\",\"APRN-NA\",\"APRN-NP\",\"APRN-NP, MSN, FNP-BC\",\"APRN-NP, RN, DNP\",\"APRN-NPC\",\"APRN-NP-C\",\"APRN-P\",\"APRNPC\",\"APRN-PC\",\"APRN-PMH\",\"APRN-PMHNP\",\"APRN-PMHNP, BC\",\"APRN-RN\",\"APRN-RX\",\"APRN-RX BC\",\"APRN-RX, ACNP-BC\",\"APRN-RX, FNP\",\"APRN-RX, FNP-C\",\"APRN-RX, MSN\",\"APRN-RX, MSN, MPH\",\"APRN-WHNP\",\"APRN-WHNP-BC\",\"APRNX, CNS\",\"APRRN, FNP-BC\",\"APRW, PMH NPRACT.B.C\",\"APSW\",\"AR NP\",\"AR.N.P.\",\"ARANP\",\"ARNP\",\"ARNP-\",\"ARN-P\",\"ARNP   CNM\",\"ARNP - BC\",\"ARNP  FNP-C\",\"ARNP - FNP-C\",\"ARNP  MSN\",\"ARNP  RN\",\"ARNP (AANP)\",\"ARNP (FNP-BC)\",\"ARNP (M.S.N)\",\"ARNP / CRNA\",\"ARNP APRN BC\",\"ARNP BC\",\"ARNP C\",\"ARNP -C\",\"ARNP C MSN\",\"ARNP C,  CRNP.\",\"ARNP CDE\",\"ARNP CNM\",\"ARNP CNM FNP\",\"ARNP -CNP\",\"ARNP CNS\",\"ARNP CS\",\"ARNP DHSC BC\",\"ARNP ED D\",\"ARNP FNP\",\"ARNP FNP-BC\",\"ARNP FNPC\",\"ARNP FNPC ANPC\",\"ARNP LMFT\",\"ARNP LMFT PHDC\",\"ARNP MS\",\"ARNP MS BC CHT\",\"ARNP MS RN FNP BC\",\"ARNP MSN\",\"ARNP MSN ARNP\",\"ARNP MSN FNPC\",\"ARNP NP-C\",\"ARNP NURSE PRACTITIO\",\"ARNP OR PFMHNP\",\"ARNP PAC\",\"ARNP PHD\",\"ARNP PLLC\",\"ARNP PNP-BC\",\"ARNP PSYCH\",\"ARNP RN\",\"ARNP RN BSN MSN\",\"ARNP RN CNS LMHC\",\"ARNP RN DNP CFNP\",\"ARNP WHNP\",\"ARNP)\",\"ARNP,\",\"ARNP,  CNM\",\"ARNP, ANP-BC\",\"ARNP, AOCNP\",\"ARNP, APN\",\"ARNP, BC\",\"ARNP, BC, CDE\",\"ARNP, BC, MS\",\"ARNP, BC, MSN\",\"ARNP, BC, PH.D\",\"ARNP, BC-ADM\",\"ARNP, BC-ADM, FAAN\",\"ARNP, BC-GNP\",\"ARNP, BSN, MN\",\"ARNP, BSN, MSN\",\"ARNP, CCM\",\"ARNP, CCRN\",\"ARNP, CDE\",\"ARNP, CFNP\",\"ARNP, C-FNP\",\"ARNP, CNM\",\"ARNP, CNM  FNP\",\"ARNP, CNM, WHNP\",\"ARNP, CNP, ACNP, BC\",\"ARNP, CNS\",\"ARNP, CNS, BC\",\"ARNP, CPNP\",\"ARNP, CRNA\",\"ARNP, CRNFA\",\"ARNP, CRNFA, FNP\",\"ARNP, CRNP, MPH\",\"ARNP, CRRN\",\"ARNP, CS\",\"ARNP, CS, BC, PHD\",\"ARNP, CWCN\",\"ARNP, DHSC\",\"ARNP, DNP\",\"ARNP, FA\",\"ARNP, FNP\",\"ARNP, FNP, ANP, MSN\",\"ARNP, FNP,MSN\",\"ARNP, FNP-BC\",\"ARNP, FNP-BC, FEP\",\"ARNP, FNP-BC, OTRL\",\"ARNP, FNP-C\",\"ARNP, GNP\",\"ARNP, LAC\",\"ARNP, LMHC\",\"ARNP, LMT\",\"ARNP, LP\",\"ARNP, M.ED, PMHNP-BC\",\"ARNP, MN\",\"ARNP, MN, CS\",\"ARNP, MN, EDD\",\"ARNP, MN, FNP-C\",\"ARNP, MPH\",\"ARNP, MS\",\"ARNP, MS, BC\",\"ARNP, MSN\",\"ARNP, MSN, ACNP-BC\",\"ARNP, MSN, AOCNP\",\"ARNP, MSN, CCNS\",\"ARNP, MSN, FNP\",\"ARNP, MSN, NP-C\",\"ARNP, MSN, OCN, RN\",\"ARNP, MSN, PMHCNS-BC\",\"ARNP, MSW\",\"ARNP, N.D., RN\",\"ARNP, ND\",\"ARNP, ND, PHD\",\"ARNP, NNP-BC\",\"ARNP, NP\",\"ARNP, NP-C\",\"ARNP, NP-C, FNP-BC\",\"ARNP, NP-C, MSN, BS\",\"ARNP, OCN\",\"ARNP, P.S.\",\"ARNP, PA-C\",\"ARNP, PH.D., PC\",\"ARNP, PHD\",\"ARNP, PHD, CDE\",\"ARNP, PHD.\",\"ARNP, PMHNP\",\"ARNP, PMH-NP, BC\",\"ARNP, PMHNP-B.C.\",\"ARNP, PMHNP-BC\",\"ARNP, PNP-BC\",\"ARNP, PSYCH\",\"ARNP, RCS\",\"ARNP, RN\",\"ARNP, RN, LMP\",\"ARNP, RN, LMT\",\"ARNP, RNC, BSN\",\"ARNP, RNC, MSN\",\"ARNP, RNFA\",\"ARNP, WHNP-BC\",\"ARNP,ACNP-BC\",\"ARNP,BC\",\"ARNP,C\",\"ARNP,C-CNS\",\"ARNP,CDE\",\"ARNP,CNM\",\"ARNP,CNS\",\"ARNP,CS\",\"ARNP,CWON,DAPWCA\",\"ARNP,DNP\",\"ARNP,FNP,CWOCCN\",\"ARNP,FNP-BC\",\"ARNP,MA\",\"ARNP,MSN\",\"ARNP,MSN,BC\",\"ARNP,MSN,CAP\",\"ARNP,MSN,DHS-STUDENT\",\"ARNP,NP-C\",\"ARNP,PMH, CNS, BC\",\"ARNP,RN\",\"ARNP.\",\"ARNP. DNP\",\"ARNP.,BC\",\"ARNP/ FNP-BC\",\"ARNP/C\",\"ARNP/CNM\",\"ARNP/CNP\",\"ARNP/CNS\",\"ARNP/FNP\",\"ARNP/FNP-C\",\"ARNP/GNP\",\"ARNP/OWNER\",\"ARNP/PA\",\"ARNP/PMHNP\",\"ARNP; CNM\",\"ARNP; PHD\",\"ARNP; PMHNP-BC\",\"ARNP-ANP-BC\",\"ARNPBC\",\"ARNP-BC\",\"ARNP-BC FAMILY\",\"ARNP-BC FNP\",\"ARNP-BC, ACNP, MSN\",\"ARNP-BC, FNP\",\"ARNP-BC, MSN, CEN\",\"ARNP-BC, NP-C\",\"ARNP-BC, PMHNP-BC\",\"ARNP-BC, RN\",\"ARNPC\",\"ARNP-C\",\"ARNPC MSN\",\"ARNP-C MSN\",\"ARNP-C, CEDS\",\"ARNP-C, DNP\",\"ARNP-C, FNP\",\"ARNP-C, MSN\",\"ARNP-C, MSN, COHN-S\",\"ARNP-C,FNP\",\"ARNP-CDE\",\"ARNP-CNM\",\"ARNP-CNP\",\"ARNP-CS\",\"ARNP-CSP\",\"ARNP-FNP\",\"ARNP-FNP-C\",\"ARNP-FP\",\"ARNP-FP-BC\",\"ARNP-FPMHNP-BC\",\"ARNP-MS\",\"ARNP-MSN, BC\",\"ARNP-T\",\"ARPN\",\"ARPN BC\",\"ARPN, BC\",\"ARPN, C-FNP,C-PNP\",\"ARPN, FNP-BC\",\"ARPN, MSN\",\"ARPN-NP\",\"ARPNP\",\"ARRN, CPNP\",\"AWP C APRN BC\",\"BC APRN\",\"BC, APRN\",\"BC-APRN\",\"BN MS APRN FNP-BC\",\"BS, RN, APN\",\"BSN MSN APN\",\"BSN MSN APN C\",\"BSN, APRN-BC\",\"BSN, MS, APN\",\"BSN, MSN, APRN-C\",\"BSN, RN, MSN, APN-BC\",\"BSN, RN-C, APNP\",\"BSN,MSN,APRN,BC\",\"BSN,MSN,APRN,NPP,BC\",\"BSN/MSN/APN\",\"BSN-C APN\",\"C.F.N.P.\",\"C.N.M\",\"C.N.M.\",\"C.N.P\",\"C.N.P.\",\"C.N.S.\",\"C.R.N.P\",\"C.R.N.P.\",\"CANP\",\"CAPN\",\"CCNS,APNP\",\"CFNP\",\"C-FNP\",\"CFNP APRN\",\"CFNP,  APN\",\"CNM\",\"CNM APRN\",\"CNM, APN\",\"CNM, APNP\",\"CNM, APRN\",\"CNM, APRN-BC (FNP)\",\"CNM, ARNP\",\"CNM, FNP\",\"CNM, NP\",\"CNM, WHNP\",\"CNM/APRN\",\"CNP\",\"C-NP\",\"CNP APRN BC NP\",\"CNP, APN\",\"CNP, APN, PHD\",\"CNP, APRN\",\"CNP, APRN, CNS-RX\",\"CNP, APRN-BC\",\"CNP, APRN-BC, FNP\",\"CNP, APRN-NP, FNP\",\"CNP, CNS, APRN BC\",\"CNS\",\"CNS  APRN\",\"CNS ,APN\",\"CNS APN\",\"CNS APRN BC\",\"CNS, APNP\",\"CNS, APRN\",\"CNS, APRN-BC\",\"CNS, RXN, APRN\",\"CNS,APRN, BC\",\"CNS/APN\",\"CNS-APRN-BC\",\"CPNP\",\"CRNA\",\"CRNA , APRN, PHD\",\"CRNA APNP\",\"CRNA, APRN\",\"CRNA, FAAPM, APN\",\"CRNP\",\"CRNP APN BC\",\"CRNP APRNC\",\"CRNP, APN\",\"CRNP-APRN., MSN.,CNS\",\"CRNP-APRN-BC\",\"CRNP-F\",\"CRNP-F, APRN-PMH\",\"CRNP-PMH\",\"CS, APRN\",\"D.C., APRN\",\"D.N.P. APRN-BC, CNP\",\"D.N.P., APRN, FNP-C\",\"DMH, RN, APN, C\",\"DNP\",\"DNP APNP\",\"DNP APRN\",\"DNP APRN PMHNP-BC PM\",\"DNP,  APN C\",\"DNP,  APRN-BC\",\"DNP, AGACNP-BC, APRN\",\"DNP, ANP-BC, APNP\",\"DNP, APN\",\"DNP, APN, C\",\"DNP, APN, CS-FNP\",\"DNP, APN, FNP-C\",\"DNP, APN, PMHNP-BC\",\"DNP, APN-BC\",\"DNP, APN-C\",\"DNP, APNG, FNP-BC\",\"DNP, APNP\",\"DNP, APNP, FNP-BC\",\"DNP, APNP, PMHCNS-BC\",\"DNP, APRN\",\"DNP, APRN, ACNP-BC\",\"DNP, APRN, ANP/BC\",\"DNP, APRN, ANP-BC\",\"DNP, APRN, BC\",\"DNP, APRN, FNP\",\"DNP, APRN, FNP-BC\",\"DNP, APRN, FNP-C\",\"DNP, APRN, NP-C\",\"DNP, APRN, PMHCNS-BC\",\"DNP, APRN, PMHNP-BC\",\"DNP, APRN,BC\",\"DNP, APRN,FNP, ACNP\",\"DNP, APRN-BC\",\"DNP, APRN-BC, FNP\",\"DNP, APRN-BC, GNP/CN\",\"DNP, ARNP\",\"DNP, FNP, APRN\",\"DNP, FNP, APRN-BC\",\"DNP, FNP-BC\",\"DNP, FNP-BC, APNP\",\"DNP, FNP-C\",\"DNP, MSN, APN-C\",\"DNP, MSN, APRN\",\"DNP,, APN,C\",\"DNP,APN\",\"DNP,APN,FNP-BC,PMHNP\",\"DNP,APRN, GNP-C\",\"DNP,APRN,BC\",\"DNP,APRN,FNP-BC,NP-C\",\"DNP,APRN,FNP-C\",\"DNP,APRN-BC\",\"DNP,FNP,APRN\",\"DNP,FNP-C,APRN\",\"DNP-APRN\",\"DNP-APRN-FNP\",\"DNS APRN BC LPC\",\"DNSC MSN APRN,BC RXN\",\"DNSC, APN\",\"DNSC, APN, FNP\",\"DNSC, APRN\",\"DNSC, APRN, FNP, BC\",\"DO, DAAPM\",\"DO, FAAP\",\"DOM, L.AC, APNP\",\"DPM,FAPWCA,DACCPPS\",\"ED.D, APN\",\"ED.D., APRN, BC, NP\",\"ED.D., APRN-BC\",\"EDD APRN\",\"EDD CS APRN BC\",\"EDD, ACNP/APNG/FAANP\",\"EDD, APN\",\"EDD, APN, CNS, PCC-S\",\"EDD, APNC\",\"EDD, APRN, BC\",\"EDD, MN, APRN-GNP\",\"EDD,APRN\",\"EDD,APRN/PMH\",\"EJD, MSN, APRN-NP\",\"F.N.P\",\"F.N.P.\",\"F.N.P., APRN-BC, MSN\",\"F.N.P.-C\",\"FAMILY NURSE PRACTIT\",\"FNAP\",\"FNP\",\"FNP  APN\",\"FNP  APN BC\",\"FNP (APRN)\",\"FNP APMHCNS\",\"FNP APN\",\"FNP APNP\",\"FNP APRN\",\"FNP APRN BC\",\"FNP APRN MSN CCRN\",\"FNP APRN-BC\",\"FNP BC\",\"FNP C\",\"FNP MSN APRN BC\",\"FNP, APMHNP\",\"FNP, APN\",\"FNP, APN-BC\",\"FNP, APNP\",\"FNP, APRN\",\"FNP, APRN-BC\",\"FNP, APRN-RX\",\"FNP, BC\",\"FNP, BC, APRN\",\"FNP, CNM\",\"FNP, CNS, APRN-BC\",\"FNP, MSN\",\"FNP, NP-C, APRN\",\"FNP, RN\",\"FNP,APNP\",\"FNP/APN-BC\",\"FNP/APRN\",\"FNP; APN\",\"FNP-BC\",\"FNP-BC APNP\",\"FNP-BC, APN\",\"FNP-BC, APNP\",\"FNP-BC, APNP, RN\",\"FNP-BC, APNP-BC\",\"FNP-BC, APRN\",\"FNP-BC, APRN-CNP\",\"FNP-BC, APRN-RX\",\"FNPC\",\"FNP-C\",\"FNP-C APRN\",\"FNP-C APRN-BC\",\"FNP-C, APNP\",\"FNP-C, APRN\",\"FNP-C,APRN\",\"FP-C APRN\",\"FPMHNP\",\"FPMHNP-APRN-BC\",\"FPNP, CRNP, APN\",\"G.N.P., APMHNP\",\"GCNS APNP\",\"GNP\",\"GNP/APRN\",\"GNP-BC\",\"HSN, APRN\",\"JD, APN, CNS, RNC\",\"M.S. APRN\",\"M.S. APRN-BC\",\"M.S., APRN\",\"M.S., APRN, BC\",\"M.S., R.N., APN\",\"M.S.,NP-C, APRN,BC,\",\"M.S.N, APRN, NP-C\",\"M.S.N. APRN, BC\",\"M.S.N., APRN\",\"M.S.N., APRN-BC\",\"M.S.W. CAPSW\",\"MA CS APRN\",\"MA LCPC CEAP SAP\",\"MA, APRN ,BC\",\"MA, APRN, CRNP\",\"MA, APRN-BC\",\"MA,APRN,CS\",\"MS APN\",\"MS APN BC\",\"MS APRN\",\"MS APRN ANP\",\"MS APRN BC\",\"MS APRN FNP BC\",\"MS APRN FNP-BC\",\"MS APRN PMH CS\",\"MS APRN, BC\",\"MS APRN-BC\",\"MS FNP APN BC FNP\",\"MS FNP-C, APN,C\",\"MS RN APNP\",\"MS RN APRN\",\"MS RN CS  APRN BC\",\"MS RN CS APRN\",\"MS, ANP, APRN,BC\",\"MS, APN\",\"MS, APN, ACNP-BC\",\"MS, APN, CANP\",\"MS, APN, CNP\",\"MS, APN/CNP\",\"MS, APNP\",\"MS, APNP, ANP-BC\",\"MS, APNP, FNP-BC\",\"MS, APRN\",\"MS, APRN, AAHIVS\",\"MS, APRN, ANP-BC\",\"MS, APRN, BC\",\"MS, APRN, BC NP\",\"MS, APRN, BC, ANP\",\"MS, APRN, BC, AOCN\",\"MS, APRN, BC, AOCNP\",\"MS, APRN, BC, FNP\",\"MS, APRN, BC, PC\",\"MS, APRN, BC-FNP, CD\",\"MS, APRN, BS\",\"MS, APRN, CNP\",\"MS, APRN, CNS, ANP\",\"MS, APRN, CWOCN, CWS\",\"MS, APRN, FNP\",\"MS, APRN, FNP-BC\",\"MS, APRN, FNP-C\",\"MS, APRN, GNP, BC\",\"MS, APRN, GNP-BC\",\"MS, APRN, NP\",\"MS, APRN, NP-C\",\"MS, APRN, PMHNP-BC\",\"MS, APRN,ACNP-BC\",\"MS, APRN,BC\",\"MS, APRN,FNP-BC\",\"MS, APRN-BC\",\"MS, APRN-BC, ANP\",\"MS, APRN-BC, CS\",\"MS, APRN-BC, FNP\",\"MS, APRN-C, CNRN\",\"MS, APRN-C, NP-C\",\"MS, APRN-GNP\",\"MS, APRN-PMH\",\"MS, FNP\",\"MS, FNP, APNP\",\"MS, MPH, APRN, BC\",\"MS, PA-C, DFAAPA\",\"MS, PMHNP-BC, APN\",\"MS, RN, APN\",\"MS, RN, APN, C\",\"MS, RN, APN-BC\",\"MS, RN, APN-C\",\"MS, RN, APNP\",\"MS, RN, APRN, BC\",\"MS, RN, NP, APRN, BC\",\"MS,APN-C\",\"MS,APRN\",\"MS,APRN BC\",\"MS,APRN,ACNS BC\",\"MS,APRN,BC\",\"MS,APRN,BC-ANP\",\"MS,APRN,BC-FNP\",\"MS,APRN,FNP,BC\",\"MS,APRN,FNP-BC\",\"MS,APRN,NP-C\",\"MS,APRN,WCN\",\"MS,APRN-BC,AOCN\",\"MS,RN,APN\",\"MS,RN,APN,C\",\"MS,RN,CS,APRN,BC NP\",\"MS. APRN, BC\",\"MSN  APN\",\"MSN  APRN  BC-FNP\",\"MSN , APRN, BC\",\"MSN ,APN  NP-C\",\"MSN APN\",\"MSN APN BC\",\"MSN APN C\",\"MSN APN CNS\",\"MSN APN FNP\",\"MSN APN RN\",\"MSN APN-BC\",\"MSN APN-C\",\"MSN APNP\",\"MSN APRN\",\"MSN APRN AGNP-C\",\"MSN APRN ANP-C\",\"MSN APRN BC\",\"MSN APRN- BC\",\"MSN APRN FNP\",\"MSN APRN FNP-BC\",\"MSN APRN FNPC\",\"MSN APRN FNP-C\",\"MSN APRN GNP-BC\",\"MSN APRN NP-C\",\"MSN APRN,BC FNP\",\"MSN APRN-BC\",\"MSN APRNC\",\"MSN CNS APRN\",\"MSN CRNP\",\"MSN CS C AP MHCNS AP\",\"MSN FNP\",\"MSN FNP APNP\",\"MSN RN APNC\",\"MSN RN APRN\",\"MSN RN APRN BC\",\"MSN RN APRN FNP-BC\",\"MSN RN BC AP MHCNS\",\"MSN RNC APRN BC FNP\",\"MSN RNCS APRN\",\"MSN,  APN\",\"MSN,  APN-C\",\"MSN,  APNP\",\"MSN,  APRN-BC\",\"MSN,  APRN-BC,  ANP\",\"MSN,  C.S., AP.R.N\",\"MSN,  FNP, APRN\",\"MSN, ACNP\",\"MSN, ACNP, APRN,BC\",\"MSN, ACNP-BC\",\"MSN, ACNS-BC, APN\",\"MSN, ANP\",\"MSN, ANP, APRN-BC\",\"MSN, ANP, BC, APRN\",\"MSN, ANP-BC\",\"MSN, APFNP-BC, AE-C\",\"MSN, APN\",\"MSN, APN C\",\"MSN, APN,  FNP\",\"MSN, APN, A/GNP-BC\",\"MSN, APN, ACNP-BC\",\"MSN, APN, ACNS-BC\",\"MSN, APN, ANP-C, CDE\",\"MSN, APN, C\",\"MSN, APN, C.\",\"MSN, APN, CNP, NP-C\",\"MSN, APN, CNS, BC\",\"MSN, APN, FCCM\",\"MSN, APN, FNP\",\"MSN, APN, FNP-BC\",\"MSN, APN, FNP-C\",\"MSN, APN, NP-BC\",\"MSN, APN, NP-C\",\"MSN, APN, NP-C, CRRN\",\"MSN, APN, RN\",\"MSN, APN,C\",\"MSN, APNBC\",\"MSN, APN-BC\",\"MSN, APNC\",\"MSN, APN-C\",\"MSN, APNC, CIC, CCRN\",\"MSN, APNP\",\"MSN, APNP, L.AC.\",\"MSN, APNP-BC\",\"MSN, APRN\",\"MSN, APRN FNP-BC\",\"MSN, APRN FNP-C\",\"MSN, APRN, ACNP-BC\",\"MSN, APRN, ACNS-BC\",\"MSN, APRN, ANCP-BC,\",\"MSN, APRN, ANP\",\"MSN, APRN, ANP-BC\",\"MSN, APRN, ANP-C\",\"MSN, APRN, B.C.\",\"MSN, APRN, BC\",\"MSN, APRN, BC (FNP)\",\"MSN, APRN, BC, CHPN\",\"MSN, APRN, BC, CRNP\",\"MSN, APRN, BC, FNP\",\"MSN, APRN, BC, FNP-C\",\"MSN, APRN, BC, MPH\",\"MSN, APRN, BC, NP\",\"MSN, APRN, BC, OCN\",\"MSN, APRN, BC,FNP\",\"MSN, APRN, BC-ADM\",\"MSN, APRN, BC-FNP\",\"MSN, APRN, BC-PCM\",\"MSN, APRN, CCRN\",\"MSN, APRN, CNS\",\"MSN, APRN, COHN-S\",\"MSN, APRN, CPNP\",\"MSN, APRN, CRNP, CDE\",\"MSN, APRN, EFNP, CDE\",\"MSN, APRN, FNP\",\"MSN, APRN, FNP- BC\",\"MSN, APRN, FNP, NP-C\",\"MSN, APRN, FNP-BC\",\"MSN, APRN, FNP-C\",\"MSN, APRN, FNP-C,\",\"MSN, APRN, NP-BC\",\"MSN, APRN, NP-C\",\"MSN, APRN, P/MHNP\",\"MSN, APRN, PMHCNS-BC\",\"MSN, APRN, PMHNP-BC\",\"MSN, APRN, RD, LD\",\"MSN, APRN,BC\",\"MSN, APRN,BC, AOCN\",\"MSN, APRN,BC, NP-C\",\"MSN, APRN,FNP-BC\",\"MSN, APRN-BC\",\"MSN, APRN-BC, ACNP\",\"MSN, APRN-BC, AGNP\",\"MSN, APRN-BC, AOCN\",\"MSN, APRN-BC, CWOCN\",\"MSN, APRN-BC, FNP\",\"MSN, APRN-BC, GNP\",\"MSN, APRN-BC, RNC\",\"MSN, APRN-C\",\"MSN, APRN-C, FNP\",\"MSN, APRN-C, PSY NUR\",\"MSN, ARNP\",\"MSN, CNP\",\"MSN, CNS, APN\",\"MSN, CNS, APN ED.M,\",\"MSN, CRNP\",\"MSN, DNP, APN-C\",\"MSN, FN-C, APRN\",\"MSN, FNP\",\"MSN, FNP, APN\",\"MSN, FNP, APNP\",\"MSN, FNP, APRN\",\"MSN, FNP, APRN-BC\",\"MSN, FNP-BC\",\"MSN, FNP-BC, APN\",\"MSN, FNP-BC, APNP\",\"MSN, FNP-BC, APRN\",\"MSN, FNP-C\",\"MSN, NP\",\"MSN, NP-C\",\"MSN, NP-C, APNP\",\"MSN, PMHAPRN-BC\",\"MSN, PMHNP, APRN, BC\",\"MSN, RN APN\",\"MSN, RN, APN, ANP-BC\",\"MSN, RN, APN, BC\",\"MSN, RN, APN, FNP-BC\",\"MSN, RN, APN,C\",\"MSN, RN, APN-BC\",\"MSN, RN, APN-C\",\"MSN, RN, APNP\",\"MSN, RN, APRN\",\"MSN, RN, APRN, ANPBC\",\"MSN, RN, APRN, BC\",\"MSN, RN, APRN,BC\",\"MSN, RN, APRN-BC\",\"MSN, RN, APRN-BC FNP\",\"MSN, RN, FNP-BC\",\"MSN, RN, NP-C\",\"MSN, RNC, APN - NNP\",\"MSN, RNC, APRN-BC\",\"MSN, RNFA, APRN, NP\",\"MSN,APN\",\"MSN,APN,BC\",\"MSN,APN,C\",\"MSN,APN,CCNS,ACNP-BC\",\"MSN,APN,CNS\",\"MSN,APN,FNP\",\"MSN,APN,FNP-BC\",\"MSN,APN,NP-C,FNP-BC\",\"MSN,APN-C\",\"MSN,APNP,FNP\",\"MSN,APRN\",\"MSN,APRN, BC\",\"MSN,APRN, C-FNP\",\"MSN,APRN, FNP-BC\",\"MSN,APRN, FNP-C\",\"MSN,APRN,ANP-BC\",\"MSN,APRN,BC\",\"MSN,APRN,BC,ANP,GNP\",\"MSN,APRN,BC,CRNP\",\"MSN,APRN,BC,FNP\",\"MSN,APRN,CNS\",\"MSN,APRN,FNE,SANE-A,\",\"MSN,APRN,FNP\",\"MSN,APRN,FNP-BC\",\"MSN,APRN,FNP-C\",\"MSN,APRN,PMHNP\",\"MSN,APRN,WHNP-BC\",\"MSN,APRN-BC\",\"MSN,APRN-BC,BC-AMD\",\"MSN,APRN-BC,FNP\",\"MSN,CFNP,CNRN,APRN\",\"MSN,CPNP,APN\",\"MSN,CS,APRN\",\"MSN,FNP\",\"MSN,FNP,APRN,BC\",\"MSN,NP-C,APNP\",\"MSN,RN, APN,CNP\",\"MSN,RN,APN-BC\",\"MSN,RN,APN-C\",\"MSN,RN,CS-APN\",\"MSN., APN., NP-C\",\"MSN/APN\",\"MSN/BC-FNP/APN\",\"MSNAPN\",\"MSN-APN\",\"MSNAPRN\",\"MSN-APRN\",\"MSN-APRN-BC\",\"MSN-FNP\",\"N. P.\",\"N.D., APN, F.N.P.-CS\",\"N.P\",\"N.P.\",\"N.P.-C\",\"ND APN CNP\",\"ND,MSN,APRN\",\"NNP\",\"NNP/APRN\",\"NP\",\"NP APN\",\"NP APRN\",\"NP APRN BC\",\"NP APRNBC\",\"NP C\",\"NP MSN\",\"NP MSN APN BC\",\"NP MSN APRN BC\",\"NP MSN FWPC APRN BC\",\"NP,  APRN BC\",\"NP, APN\",\"NP, APRN\",\"NP, APRN-BC\",\"NP, APRN-BC, MSN\",\"NP, CNS, APRN-BC\",\"NP, CS, APRN-BC\",\"NP, MSN, APRN-BC\",\"NP, MSN, CS, APRN-BC\",\"NP, RN\",\"NP,APN\",\"NP,APNP\",\"NP,APRN\",\"NP,APRN, BC\",\"NP-BC\",\"NPC\",\"NP-C\",\"NP-C  APRN-BC\",\"NPC APN\",\"NPC APRN\",\"NP-C APRN\",\"NPC APRN BC\",\"NP-C, APRN\",\"NP-C, APRN, BC\",\"NP-C, APRN, BC, MS,\",\"NP-C, APRN, MSN\",\"NP-C, APRN-BC\",\"NP-C, APRN-C, CEN\",\"NP-C,APRN\",\"NPP APRN-C\",\"NPP CS MS APRN\",\"NPP., APRN\",\"NURSE PRACTIONER\",\"NURSE PRACTITIONER\",\"PA - FNP\",\"PA & NP\",\"PA C  CNP\",\"PA C FNP C\",\"PA FNP\",\"PA, C/NP\",\"PA, FNP\",\"PA, NP\",\"PA, NP, RN\",\"PA/ARNP\",\"PA/FNP\",\"PA/NP\",\"PAC AND NP\",\"PAC FNP\",\"PA-C FNP\",\"PAC FNPC\",\"PMH, CNS, APN\",\"PMHCNS, APRNBC\",\"PMH-CNS, BC, APRN\",\"PMHCNS-BC, APRN/BC\",\"PMHNP\",\"PMH-NP\",\"PMHNP (APN)\",\"PMHNP, APN-BC\",\"PMHNP, APRN BC\",\"PMHNP, APRN, CS, PC\",\"PMHNP,APRN,BC,LCSW\",\"PMHNP,MSN, RN, APN-C\",\"PMHNP-BC, APRN\",\"PMHNP-BC,APN\",\"PNP\",\"PNP, BC, APRN\",\"PNP-C, APN\",\"PSYD, APN-BC\",\"R.N, APN, C\",\"R.N, APN, NPC\",\"R.N, APNP\",\"R.N, M.S.N, APN-C\",\"R.N,B.S.N, APN, NP-C\",\"R.N.  APN-C\",\"R.N. APN\",\"R.N., APN\",\"R.N., APN (FNP-C)\",\"R.N., APN, C.\",\"R.N., APN-BC\",\"R.N., APN-C.\",\"R.N., APRN\",\"R.N., APRN, B.C.\",\"R.N., APRN-BC\",\"R.N., F.N.P.\",\"R.N., M.S.N.,APRN-BC\",\"R.N., N.P.\",\"R.N.,MSN,APRN\",\"R.N.; APRN-BC\",\"R.N.APN,C.\",\"R.N.P.\",\"RN   APN   C\",\"RN  APN\",\"RN  MSN  APN\",\"RN , APRN, CS\",\"RN ANP\",\"RN APN\",\"RN- APN\",\"RN APN C\",\"RN APN C AOCN\",\"RN APN FNP\",\"RN APN FNP-BC\",\"RN APN MNSC\",\"RN APN NP-C\",\"RN APN WHCNP\",\"RN APN, C.\",\"RN APN,C\",\"RN APNC\",\"RN APN-C\",\"RN APNC PHD\",\"RN APNP BC\",\"RN APRN\",\"RN APRN  BC\",\"RN APRN MSN\",\"RN BC AP PMH/CNS\",\"RN CNP\",\"RN CNS APRN\",\"RN CWOCN APN\",\"RN FNP\",\"RN FNP APN\",\"RN FNP-C\",\"RN FNPC APNP\",\"RN MA APRN-BC AOCN\",\"RN MNSC APRN BC FNP\",\"RN MS APN-C\",\"RN MS APRN BC\",\"RN MS APRN BC FNP\",\"RN MS MS PHD APNP\",\"RN MSN APN\",\"RN MSN APN BC\",\"RN MSN APN C\",\"RN MSN APN CS\",\"RN MSN APN/CNP\",\"RN MSN APNC\",\"RN MSN APNP C\",\"RN MSN APRN\",\"RN MSN APRN BC\",\"RN MSN APRN BC FNP\",\"RN MSN APRN-BC\",\"RN MSN CNS APN\",\"RN MSN CS APN\",\"RN MSN FNP\",\"RN NP\",\"RN PWD APRN\",\"RN,  APN,C\",\"RN, ACNP\",\"RN, ACNP BC (APRN)\",\"RN, ACNP-BC\",\"RN, ACNS-BC, APN\",\"RN, ACNS-BC, APRN\",\"RN, ANCP, APRN-BC\",\"RN, ANP\",\"RN, ANP-BC\",\"RN, ANP-C\",\"RN, AP/MHNP\",\"RN, APM\",\"RN, APN\",\"RN, APN, ACNP, BC\",\"RN, APN, ACNP-BC\",\"RN, APN, C\",\"RN, APN, C.\",\"RN, APN, C. ,ACRN\",\"RN, APN, CNP\",\"RN, APN, FNP\",\"RN, APN, FNP-C\",\"RN, APN, MS, FNP-BC\",\"RN, APN, PMHNP\",\"RN, APN,C\",\"RN, APN,C CDE\",\"RN, APN,C, RNFA\",\"RN, APN.C\",\"RN, APN/NP-C\",\"RN, APN-BC\",\"RN, APN-BC-CWOCN\",\"RN, APNC\",\"RN, APN-C, AOCN, MSN\",\"RN, APN-NP\",\"RN, APNP\",\"RN, APNP, FNP-BC\",\"RN, APNP-BC\",\"RN, APNP-CSC\",\"RN, APRN\",\"RN, APRN, ACNP\",\"RN, APRN, BC\",\"RN, APRN, BC, CNSPMH\",\"RN, APRN, BC,FNP\",\"RN, APRN, DNP\",\"RN, APRN, FNP\",\"RN, APRN, FNP-C\",\"RN, APRN, NP, B.C.\",\"RN, APRN, NP-C\",\"RN, APRN-BC\",\"RN, APRN-BC (ANP)\",\"RN, APRN-BC, A\",\"RN, APRN-BC, ADM--BC\",\"RN, APRN-BC, FNP,\",\"RN, APRN-CNP\",\"RN, ARNP\",\"RN, BC, AP/MHNP\",\"RN, BSN, APN\",\"RN, BSN, DNP, APRN\",\"RN, BSN, MSN, APN, F\",\"RN, BSN, MSN, APN-C\",\"RN, BSN, MSN, APNP\",\"RN, BSN, MSN, APRN\",\"RN, CCRN, ACNP, APRN\",\"RN, CFNP\",\"RN, CNM, APN\",\"RN, CNN, APN\",\"RN, CNP\",\"RN, CNP, APN\",\"RN, CNS, ANP APRN BC\",\"RN, CNS, APN\",\"RN, CNS,APN\",\"RN, CPNP, MSN (APRN)\",\"RN, CRNP\",\"RN, CS, AP/MHCNS\",\"RN, FNP\",\"RN, FNP-BC\",\"RN, FNP-BC, APNP\",\"RN, FNP-C\",\"RN, FPMHNP, APNP\",\"RN, MA, APN, NP\",\"RN, MA, APRN, BC\",\"RN, MED, APRN\",\"RN, MHA, MSN, APN-FN\",\"RN, MN, APN\",\"RN, MN, GNP-BC, APNP\",\"RN, MS, AOCN, APN,C\",\"RN, MS, APN\",\"RN, MS, APN,C\",\"RN, MS, APN-C\",\"RN, MS, APRN,BC\",\"RN, MS, APRN-BC\",\"RN, MS, CCRN, APRN-B\",\"RN, MS, CDE, APRN\",\"RN, MSCN, AOCN, APNC\",\"RN, MSN, ACNP-BC\",\"RN, MSN, APN\",\"RN, MSN, APN, ANP-BC\",\"RN, MSN, APN, BC\",\"RN, MSN, APN, C.\",\"RN, MSN, APN, CNS\",\"RN, MSN, APN, FNP-BC\",\"RN, MSN, APN, NP-C\",\"RN, MSN, APN-BC\",\"RN, MSN, APN-BC, CEN\",\"RN, MSN, APNC\",\"RN, MSN, APN-C\",\"RN, MSN, APNC, AOCNP\",\"RN, MSN, APNP\",\"RN, MSN, APRN\",\"RN, MSN, APRN, AOCNP\",\"RN, MSN, APRN, BC\",\"RN, MSN, APRN, CNN\",\"RN, MSN, APRN, NP-C\",\"RN, MSN, APRN,BC\",\"RN, MSN, APRN-BC\",\"RN, MSN, APRN-BC,\",\"RN, MSN, C-AP/MHCNS\",\"RN, MSN, CNP\",\"RN, MSN, FNP\",\"RN, MSN, FNP-BC\",\"RN, MSN, NP\",\"RN, MSN, NP-C\",\"RN, MSN,APRN, FNP\",\"RN, MSN,APRN,BC\",\"RN, ND, APN\",\"RN, NP\",\"RN, NP, APRN,BC\",\"RN, NP-C\",\"RN, PHD, APNP\",\"RN, PMHNP-BC, APNP\",\"RN, RNFA, APN.C\",\"RN,APN\",\"RN,APN, C\",\"RN,APN,C\",\"RN,APN,C.\",\"RN,APN,CNS\",\"RN,APN-C\",\"RN,APNP\",\"RN,APRN\",\"RN,BSN,APN-C\",\"RN,CNS,APN\",\"RN,CNS,APRN\",\"RN,FNP\",\"RN,FNP,APN\",\"RN,MS,APN,ONC\",\"RN,MS,APNC\",\"RN,MSN,APN\",\"RN,MSN,APN,CNSN\",\"RN,MSN,APN.C\",\"RN,MSN,APN-BC\",\"RN,MSN,APNC\",\"RN,MSN,APRN,BC\",\"RN,MSN,APRN-BC\",\"RN,MSN,CNS,APRN-BC,\",\"RN,NP\",\"RN. APN-C\",\"RN., APNC\"],\"APRN\")\n",
    "data['nppes_credentials'] = data['nppes_credentials'].replace([\"RN., APNC\",\"RN., MSN, APRN-BC\",\"RN.APN,C\",\"RN/NP\",\"RNAP\",\"RN-APN\",\"RNAPNC\",\"RNBC, APMHCNS\",\"RN-BC, MSN, APN-C\",\"RN-BC, NP-C, APRN\",\"RN-C  APN\",\"RNC APN\",\"RNC APNP\",\"RNC FNP\",\"RNC MS CAPT NC USNR\",\"RNC, ANP, APN\",\"RNC, APN, WHNP-BC\",\"RNC, APNP\",\"RNC, CNM, DNP, APN\",\"RNC, FNP\",\"RNC, MS, CRNP, APRN\",\"RNC,APN\",\"RNCS APRN\",\"RNCS PC APRN BC\",\"RNCS, APNP\",\"RNCS, APRN\",\"RNCS, APRN, BC\",\"RNCS,APRN,BC\",\"RNCS/APRN-BC\",\"RNCS; APRN\",\"RNFA, APRN, FNP-BC\",\"RNMSN APRN BC\",\"RNNP\",\"RNP\",\"W.H.C.N.P\",\"W.H.C.N.P.\",\"W.H.N.P\",\"W.H.N.P, M.S.N.\",\"W.H.N.P.\",\"W.H.N.P. - B.C.\",\"W.H.N.P. M.S. R.N.\",\"W.H.N.P., A.N.P.\",\"WHANP-BC\",\"WHARNP\",\"WHC N.P.\",\"WHC NP\",\"WHC, NP\",\"WHC/PMHNP\",\"WHCNP\",\"WHC-NP\",\"WHCNP, APRN\",\"WHCNP, FNP\",\"WHCNP/ANP\",\"WHCNP/CRNP\",\"WHCNP/FNP-BC\",\"WHCNP-BC\",\"WHCNP-BC, FNP-C\",\"WHCNPC\",\"WHNP\",\"WHNP - BC\",\"WHNP BC\",\"WHNP C\",\"WHNP CNM\",\"WHNP LPA\",\"WHNP OR CRNP\",\"WHNP PA C\",\"WHNP RNC\",\"WHNP RN-C\",\"WHNP, ANP\",\"WHNP, AOCNP\",\"WHNP, APN\",\"WHNP, APN, MSN\",\"WHNP, BC\",\"WHNP, CFNP\",\"WHNP, CNM\",\"WHNP, FNP, BC\",\"WHNP, FNP-BC\",\"WHNP, IBCLC\",\"WHNP, MSN\",\"WHNP, RNC\",\"WHNP,FNP\",\"WHNP,MSN\",\"WHNP/ARNP\",\"WHNP/CNMW\",\"WHNP/FNP-C\",\"WHNP-APRN\",\"WHNP-BC\",\"WHNP-BC NP\",\"WHNP-BC, ANP-BC\",\"WHNP-BC, APNP\",\"WHNP-BC, CNM\",\"WHNP-BC, CNM, MS\",\"WHNP-BC, CUNP\",\"WHNP-BC, FNP-C\",\"WHNP-BC, GNP-BC\",\"WHNP-BC, MSN\",\"WHNP-BC, MSN, RN, MA\",\"WHNP-BC, RN\",\"WHNP-BC/ ANP-BC\",\"WHNPC\",\"WHNP-C\",\"WHNP-C, FNP-C\",\"WHNP-C; MSN; RN\",\"WHNP-PC\",\"WHNP-RX AUTH\",\"WHPAC\",\"WHPN\",\"WOMEN'S HEALTH N. P.\",\"WOMEN'S NP\",],\"APRN\")\n",
    "data['nppes_credentials'] = data['nppes_credentials'].replace([\"PH. D., APN\",\"PH.D, APRN,BC\",\"PH.D, APRN-C\",\"PH.D, MS,APRN, ANP-C\",\"PH.D.   APNP\",\"PH.D., APN\"\"PH.D., APRN\",\"PH.D., APRN BC\",\"PH.D., APRN, BC\",\"PH.D., APRN-BC\",\"PH.D., RN, APN,C\",\"PHD APN CS ACHPN\",\"PHD APN FNP-C\",\"PHD APNP\",\"PHD APRN\",\"PHD APRN BC\",\"PHD APRN BC ANP\",\"PHD APRN BC PNP\",\"PHD APRN CS BC\",\"PHD APRN PSYCHIATRIC\",\"PHD APRNBC\",\"PHD APRN-FNP\",\"PHD FPMHNP RNCS APRN\",\"PHD RN APN\",\"PHD RN APNC\",\"PHD RNC APNP\",\"PHD,  APRN-BC\",\"PHD, APN\",\"PHD, APN, BC\",\"PHD, APN-C\",\"PHD, APN-CNP\",\"PHD, APNP\",\"PHD, APRN\",\"PHD, APRN BC\",\"PHD, APRN, B.C.\",\"PHD, APRN, BC\",\"PHD, APRN, BC, LPC\",\"PHD, APRN, BC, NP-C\",\"PHD, APRN, BC-PMHCS\",\"PHD, APRN, CUCNS\",\"PHD, APRN, FNP, BC\",\"PHD, APRN, FNP, RN\",\"PHD, APRN, FNP-BC\",\"PHD, APRN, FNP-C\",\"PHD, APRN, PMH-BC,\",\"PHD, APRN,BC\",\"PHD, APRN-BC\",\"PHD, APRN-BC, ACNP\",\"PHD, APRN-BC, LPCC\",\"PHD, APRN-C, NP\",\"PHD, APRN-NP\",\"PHD, CNS, APRN, BC\",\"PHD, DNP, APRN\",\"PHD, DNP, APRN, CFNP\",\"PHD, LPCC, APRN,BC\",\"PHD, MPAP\",\"PHD, MPH, APRN, BC\",\"PHD, MSN, APN\",\"PHD, NP-BC, AP-RN\",\"PHD, RN, APN,C\",\"PHD, RN, APNC\",\"PHD, RN, APRN, BC\",\"PHD,APN-BC\",\"PHD,APRN,BC\",\"PHD,APRN,CNS\",\"PHD,APRN,PMHCNS-BC\",\"PHD., APRN, BC\",\"PHDC, APRNRX-BC\",],\"APRNPHD\")\n",
    "data['nppes_credentials'] = data['nppes_credentials'].replace([\"D.C.\",\"DC DOCTOR OF CHIROPR\",\"PA; DC\",\"PAC DC\",\"PA-C,   D.C.\",],\"DC\")\n",
    "data['nppes_credentials'] = data['nppes_credentials'].replace([\"(DDS)\"\"(DENTIST) DDS.PC.\",\"(DMD)\",\",DMD, MS, P.C.\",\".D.D.S\",\".D.D.S.\"\"ANDREA LISOWSKI DMD\",\"B.D.S. DMD, PHD\",\"B.D.S.H.DIP.DENT.DMD\",\"BDS DMD\",\"BDS, DMD\",\"BDS, DMD, FADI\",\"BDS, DMD, MS\",\"BDS,DMD\",\"BDS,DMD,MSD\",\"BS DMD MS\",\"BS DMD PA\",\"BS, MA,MS, DMD\",\"BSC., BDS., DMD.,\",\"BSC., DMD, FRCDC\",\"CHRIS FINLAYSON DMD\",\"D D S\",\"D P M\",\"D,D,S,\",\"D. D. S\",\"D. D. S.\",\"D. M. D.\",\"D. P. M.\",\"D.D.S\",\"D.D.S,\",\"D.D.S, M.S.\",\"D.D.S, P.A.\",\"D.D.S.\",\"D.D.S. M.S.\",\"D.D.S., M.D.\",\"D.D.S., M.D.S.\",\"D.D.S., M.S.\",\"D.D.S., M.S.D.\",\"D.D.S., M.SC.D.\",\"D.D.S., MS\",\"D.D.S., P.A.\",\"D.D.S., P.C.\",\"D.D.S., PC\",\"D.D.S., PH.D.\",\"D.D.S.,M.S.\",\"D.D.S.,M.S.D.\",\"D.D.S.,P.A.\",\"D.D.S.,PA\",\"D.M.D\",\"D.M.D,\",\"D.M.D, M.S.\",\"D.M.D.\",\"D.M.D., M.D.\",\"D.M.D., M.S.\",\"D.M.D., M.S.D.\",\"D.M.D., P.A.\",\"D.M.D., P.C.\",\"D.M.D.,M.S.\",\"D.M.D.,P.C.\",\"D.P.M\",\"DDS   MS IN ENDO.\",\"DDS - DMD\",\"DDS DENTIST\",\"DDS DMD\",\"DDS DMD MD\",\"DDS DOCTOR IN DENTAL\",\"DDS DOCTOR OF DENTAL\",\"DDS DOCTOR OF DENTIS\",\"DDS DOCTORATE DENTAL\",\"DDS DOS\",\"DDS DOS MS\",\"DDS ENDO\",\"DDS ENDODONTICS SPEC\",\"DDS MD\",\"DDS MS\",\"DDS PA\",\"DDS PC\",\"DDS PERIODONTIST\",\"DDS, DMD\",\"DDS, DMD, PA\",\"DDS, FAGD, FDOCS\",\"DDS, MD\",\"DDS, MS\",\"DDS, MS, DMD\",\"DDS, MSC, DMD\",\"DDS, MSD\",\"DDS, PA\",\"DDS, PC\",\"DDS, PERIODONTIST\",\"DDS,DMD\",\"DDS,FICOI,FACE,FDOCS\",\"DDS,MD\",\"DDS,MS\",\"DDS,MSD\",\"DDS,PA\",\"DDS,PC\",\"DDS.\",\"DDS., MS (ORTHODONTI\",\"DDS/DMD\",\"DENTIST\",\"DENTIST    DMD\",\"DENTIST DDS\",\"DENTIST DMD\",\"DENTIST DMD PC\",\"DENTIST ENDODONTIST\",\"DENTIST GP DMD\",\"DIMITRI PAPADOPOULOS\",\"DMD\",\"DMD    MD\",\"DMD  LTD\",\"DMD  MD\",\"DMD  MS\",\"DMD  PC\",\"DMD - PERIODONTIST\",\"DMD , MS\",\"DMD BA\",\"DMD BDS\",\"DMD CAGS PERIODONTOL\",\"DMD DDS\",\"DMD DENTIST\",\"DMD DENTISTRY\",\"DMD DOCTORATE OF DEN\",\"DMD DR MED DENT\",\"DMD DSC\",\"DMD LLC\",\"DMD LTD\",\"DMD MA\",\"DMD MD\",\"DMD MS\",\"DMD MS PA\",\"DMD MS PC\",\"DMD MSD\",\"DMD PA\",\"DMD PA-C\",\"DMD PC\",\"DMD PROSTHODONTIST\",\"DMD,\",\"DMD,  MD\",\"DMD, BS\",\"DMD, DDS\",\"DMD, DDS, FAGD\",\"DMD, DDS, MS.\",\"DMD, DENTAL CORP.\",\"DMD, DMD\",\"DMD, DO\",\"DMD, LLC\",\"DMD, MD\",\"DMD, MS\",\"DMD, MSD\",\"DMD, PA\",\"DMD, PC\",\"DMD,MS\",\"GENERAL DENTIST\",\"M.D., D.D.S.\",\"M.D., D.M.D.\",\"MD DDS\",\"MD, DDS\",\"MD, DMD\",\"PA, DDS\",],\"DDS\")\n",
    "data['nppes_credentials'] = data['nppes_credentials'].replace([\"D.D.S., M.P.H.\",\"DDS MPH\",\"DDS, MPH\",\"DMD, MPH\",],\"DDSMPH\")\n",
    "data['nppes_credentials'] = data['nppes_credentials'].replace([\"DDS PHD\",\"DDS, PHD\"\"P.H.D., D.D.S.\",],\"DDSPHD\")\n",
    "data['nppes_credentials'] = data['nppes_credentials'].replace([\", D.O.\",\".D.O.\",\"D O\"\"D,O.\",\"D. O.\",\"D.O\"\"D.O,\",\"D.O.\",\"D.O. APC\",\"D.O., FAAP\",\"D.O., M.S.\",\"DO, MS\",],\"DO\")\n",
    "data['nppes_credentials'] = data['nppes_credentials'].replace([\"D.O., M.B.A.\",\"D.O., MBA\",],\"DOMBA\")\n",
    "data['nppes_credentials'] = data['nppes_credentials'].replace([\"D.O., M.P.H\",\"D.O., M.P.H.\",\"DO, MPH\",],\"DOMPH\")\n",
    "data['nppes_credentials'] = data['nppes_credentials'].replace([\"D.O., PH.D.\"\"DO, PHD\",],\"DOPHD\")\n",
    "data['nppes_credentials'] = data['nppes_credentials'].replace([\"D.P.M.\"],\"DPM\")\n",
    "data['nppes_credentials'] = data['nppes_credentials'].replace([\"M.B.,B.S.\",\"M.B.B.S\",\"M.B.B.S.\"],\"MBBS\")\n",
    "data['nppes_credentials'] = data['nppes_credentials'].replace([\"(M.D)\",\"(M.D.)\"\", M.D.\"\",M.D.\",\".M.D.\",\"DR\"\"DR.\",\"FAMILY PHYSICIAN\",\"M\",\"M D\",\"M,D\",\"M,D,\",\"M,D.\",\"M. D\",\"M. D.\",\"M..D.\",\"M.C/\",\"M.D\",\"M.D-\",\"M.D  AND  INTERNIST\",\"M.D PHYSICIAN\",\"M.D,\",\"M.D, LLC\",\"M.D,.\",\"M.D.\",\"M.D.     OB-GYN\",\"M.D. (H)\",\"M.D. (RETIRED)\",\"M.D. ,.\",\"M.D. .\",\"M.D. BS\",\"M.D. FAMILY PHYSICIA\",\"M.D. INC\",\"M.D. INC.\",\"M.D. L.T.D.\",\"M.D. LLC\",\"M.D. LTD\",\"M.D. LTD APC\",\"M.D. M.D.\",\"M.D. M.S\",\"M.D. M.S.\",\"M.D. M.SC.\",\"M.D. OB\",\"M.D. OB/GYN\",\"M.D. OBGYN\",\"M.D. OB-GYN\",\"M.D. P.A.\",\"M.D. PA\",\"M.D. PROF.CORP.\",\"M.D.- RETIRED\",\"M.D.(P.C. INCORPORAT\",\"M.D.,\",\"M.D.,  M.S.\",\"M.D., B. SC\",\"M.D., B.S.\",\"M.D., B.SC\",\"M.D., B.SC.\",\"M.D., BSC\",\"M.D., CEO\",\"M.D., M.A.\",\"M.D., M.S.\",\"M.D., M.SC.\",\"M.D., MEDICAL CORP.\",\"M.D., P.C.\",\"M.D.,M.S.\",\"M.D.,P.A.\",\"M.D.,P.C.\",\"M.D..\",\"M.D>\",\"M>D>\",\"MC\",\"MD INC\",\"MD MEDICAL DOCTOR\",\"MD MS\",\"MD PC\",\"MD PHYSICIAN\",\"MD PHYSICIAN AND SUR\",\"MD,\",\"MD, MA\",\"MD, MS\",\"MD, MSC\",\"MD, PA\",\"MD, PC\",\"MD.\",\"MEDICAL DOCTOR\",\"MEDICAL DOCTOR MD\",\"MEDICAL DOCTOR-MD\",\"MEDICAL DOCTORS\",\"MEDICAL DORCTOR\",\"MEDICAL PHYSICIAN\",\"MEDICAL PHYSICIAN AS\",\"N.D.\",\"PA, MD\",\"PHYSICIAN\",\"RD\",],\"MD\")\n",
    "data['nppes_credentials'] = data['nppes_credentials'].replace([\"M.D., F.A.C.S\",\"M.D., F.A.C.S.\",\"M.D., FACS\",\"M.D.,F.A.C.S.\",\"M.DPHYSICIAN/SURGEON\",\"MD FACS\"\"MD, FACS\",],\"MDFACS\")\n",
    "data['nppes_credentials'] = data['nppes_credentials'].replace([\"M.D., J.D.\",\"MD, JD\",],\"MDJD\")\n",
    "data['nppes_credentials'] = data['nppes_credentials'].replace([\"M.D., M.B.A\",\"M.D., M.B.A.\",\"M.D., MBA\",\"MD MBA\"\"MD, MBA\",],\"MDMBA\")\n",
    "data['nppes_credentials'] = data['nppes_credentials'].replace([\"M.D, M.P.H\"\"M.D, M.P.H.\",\"M.D, MPH\",\"M.D. M.P.H.\",\"M.D. MPH\",\"M.D., M.P.H\"\"M.D., M.P.H.\",\"M.D., MPH\",\"M.D.,M.P.H.\",\"MD MPH\",\"MD,MPH\",\"MD/MPH\",],\"MDMPH\")\n",
    "data['nppes_credentials'] = data['nppes_credentials'].replace([\", M.D., PH.D.\",\"M.D, PH.D\",\"M.D, PH.D.\",\"M.D, PHD\",\"M.D. PH.D\",\"M.D. PH.D.\"\"M.D. PHD\",\"M.D., PH. D.\",\"M.D., PH.D\",\"M.D., PH.D.\",\"M.D., PHD\",\"M.D., PHD.\",\"M.D.,PH.D\",\"M.D.,PH.D.\",\"M.D.,PHD\",\"M.D./PH.D\",\"M.D./PH.D.\",\"MD  PHD\",\"MD PHD\",\"MD, MPH\",\"MD, PH.D\",\"MD, PH.D.\",\"MD, PHD\",\"MD,PHD\",\"MD/PHD\",\"P.H.D., M.D.\",\"PH.D., M.D.\",\"PHD MD\",\"PHD, MD\",],\"MDPHD\")\n",
    "data['nppes_credentials'] = data['nppes_credentials'].replace([\"O D\",\"O. D.\",\"O.D\",\"O.D,\",\"O.D.\",\"O.D. APC\"\"O.D., M.S.\",\"OD PA\",\"OD PC\",\"OD, FAAO\",],\"OD\")\n",
    "data['nppes_credentials'] = data['nppes_credentials'].replace([\"C-PA\",\"M.S., PA-C\",\"MD PA\",\"MHS, PA-C\",\"MMS, PA-C\",\"MPA, PA-C\"\"MPAS, PA-C\",\"MS, PA-C\",\"P A\",\"P A C\",\"P A -C\",\"P A- C\",\"P A-C\",\"P PC\",\"P,A,\",\"P,A,-C\",\"P,A.\",\"P. A\",\"P. A .\",\"P. A- C\",\"P. A.\",\"P. A. - C\",\"P. A. - C.\",\"P. A. C.\",\"P. A. -C.\",\"P. A.-C\",\"P. A.C.\",\"P. A.-C.\",\"P. P.A.\",\"P..D.\",\"P.A\",\"P.A - C\",\"P.A - C.\",\"P.A C\",\"P.A -C\",\"P.A,\",\"P.A, A.T.C\",\"P.A,.\",\"P.A,.C\",\"P.A,-C\",\"P.A,C.\",\"P.A.\",\"P.A.  A.T.\",\"P.A. - C\",\"P.A. - C, MPAS\",\"P.A.  C.\",\"P.A. - C.\",\"P.A. - CERTIFIED\",\"P.A. , D.C.\",\"P.A. / F.N.P.\",\"P.A. C\",\"P.A. -C\",\"P.A.- C\",\"P.A. C.\",\"P.A. -C.\",\"P.A.- C.\",\"P.A. RN\",\"P.A.,\",\"P.A., A.T.C.\",\"P.A., ATC\",\"P.A., BSN, RN.\",\"P.A., C\",\"P.A., C , LA,C\",\"P.A., C.\",\"P.A., C.D.E.\",\"P.A., D.C.\",\"P.A., L.AC., N.M.D.\",\"P.A., M.P.A.S.\",\"P.A., M.S.\",\"P.A., MHP\",\"P.A., MPA\",\"P.A., MPH\",\"P.A., N.P.\",\"P.A., PHD\",\"P.A., R.D.C.S.,R.V.T\",\"P.A., R.N.\",\"P.A.,C\",\"P.A.,-C\",\"P.A.,C.\",\"P.A.,D.C\",\"P.A.,N.P.\",\"P.A..\",\"P.A..-C\",\"P.A..C.\",\"P.A..-C.\",\"P.A./C.\",\"P.A./N.P.\",\"P.A.C\",\"P.A.-C\",\"P.A.-C MCHS\",\"P.A.-C, A.T.-C\",\"P.A.-C, A.T.C.\",\"P.A.-C, ATC\",\"P.A.-C, M.C.E.P.\",\"P.A.-C, M.P.H\",\"P.A.-C, M.S.\",\"P.A.-C, MMS\",\"P.A.-C, MPAS\",\"P.A.-C, M-PAS\",\"P.A.-C, MPH\",\"P.A.-C, MS\",\"P.A.-C, R.D, MSPAS\",\"P.A.-C, RN\",\"P.A.C.\",\"P.A.-C.\",\"P.A.-C. , MHS\",\"P.A.-C., C.D.E.\",\"P.A.-C., M.B.A.\",\"P.A.-C., M.ED.\",\"P.A.-C., MPAS\",\"P.A.-C.,M.S.\",\"P.A.-C.,MHP\",\"P.A.C./A.T.C.\",\"P.A.C/\",\"P.A>\",\"P.AC\",\"P.A-C\",\"P.A-C  PHD\",\"P.A-C, MMS\",\"P.A-C, MPH\",\"P.A-C, PT\",\"P.A-C.\",\"P.A-C., MPAS\",\"P.A-C..\",\"P.A-N\",\"P.AP\",\"P.AP-C\",\"PA-\",\"P-A\",\"PA  C\",\"PA - C\",\"PA (PHYSICIAN ASSIST\",\"PA , GRADUATE\",\"PA ATC\",\"PA C\",\"PA -C\",\"PA- C\",\"PA C MHS\",\"PA C MHSA\",\"PA C MPAS\",\"PA C PHYSICIAN ASS\",\"PA C S\",\"PA C, MD (RECENT)\",\"PA C, MPAS\",\"PA CC\",\"PA -CERTIFIED\",\"PA CERTIFIED PAC\",\"PA DPM\",\"PA -L\",\"PA LMT\",\"PA MID LEVEL PRACTIT\",\"PA MMS\",\"PA MS\",\"PA- PHYSICIAN ASSIST\",\"PA PHYSICIAN ASSISTA\",\"PA,  MPAS\",\"PA, AA-C\",\"PA, ATC\",\"PA, ATC, PTA, CEAS\",\"PA, CDE\",\"PA, CN\",\"PA, DOM, ACUP\",\"PA, DPT\",\"PA, LAC\",\"PA, LCSW\",\"PA, LM\",\"PA, M.M.S\",\"PA, MMSC\",\"PA, MPAS\",\"PA, MPAS, APA\",\"PA, MS\",\"PA, MS, ATC\",\"PA, O.T.\",\"PA, PT\",\"PA, PTA\",\"PA, RD\",\"PA, RD, LD/N, CDE\",\"PA, RN\",\"PA, RN,\",\"PA, RPAC\",\"PA, RPT\",\"PA,C\",\"PA,C.\",\"PA,PT\",\"PA.\",\"PA.- C\",\"PA.C\",\"PA.-C\",\"P-A.-C\",\"PA.C, M.T.\",\"PA.C.\",\"PA/AA\",\"PA/C\",\"PA_C\",\"PAA\",\"PA-A\",\"PAAA\",\"PA-AA\",\"PAC\",\"PA-C\",\"PA--C\",\"P-AC\",\"PA-C   A,T.,C\",\"PAC   MPAS\",\"PA-C   MPAS\",\"PA-C  /MPAS\",\"PAC  ATC\",\"PA-C  MHS MSC\",\"PA-C  MPAS\",\"PA-C  MPA-S\",\"PA-C  MS\",\"PA-C (PHYSICIAN ASSI\",\"PA-C , AT-C\",\"PA-C , MSPAS\",\"PA-C / BS\",\"PAC ATC\",\"PA-C BS\",\"PAC CDE\",\"PAC CM\",\"PAC CPP\",\"PAC CWS\",\"PA-C DFAAPA\",\"PAC MS\",\"PA-C MS\",\"PA-C PA-C\",\"PAC PHD\",\"PAC PHYSICIAN ASSIST\",\"PA-C PHYSICIAN ASST\",\"PAC RD\",\"PA-C,\",\"PA-C, MMS\",\"PA-C, MS\",\"PA-C. PHYSICIAN ASSI\",\"PA-C/PHYSICIAN ASST.\",\"PA-S\",\"PHYS ASSISTANT\",\"PHYS PEDIATRICIAN\",\"PHYSCIAN ASSISTANT\",\"PHYSIAN ASSISTANT\",\"PHYSICAIAN ASSISTANT\",\"PHYSICAIN ASSISTANT\",\"PHYSICAL ASSISTANT\",\"PHYSICAN ASSISTANT\",\"PHYSICANS  ASSISTANT\",\"PHYSICANS ASSISTANT\",\"PHYSICIAN  ASISTANT\",\"PHYSICIAN  ASSISTANT\",\"PHYSICIAN ASS\",\"PHYSICIAN ASSIATANT\",\"PHYSICIAN ASSISANT\",\"PHYSICIAN ASSISATANT\",\"PHYSICIAN ASSISTAN T\",\"PHYSICIAN ASSISTANCE\",\"PHYSICIAN ASSISTANE\",\"PHYSICIAN ASSISTANG\",\"PHYSICIAN ASSISTANT\",\"PHYSICIAN ASSISTANT-\",\"PHYSICIAN' ASSISTANT\",\"PHYSICIAN ASSISTANTS\",\"PHYSICIAN ASSISTENT\",\"PHYSICIAN ASSITANT\",\"PHYSICIAN ASSSISTANT\",\"PHYSICIAN ASST\",\"PHYSICIAN ASST - C\",\"PHYSICIAN ASST C\",\"PHYSICIAN ASST CERT\",\"PHYSICIAN ASST CERTI\",\"PHYSICIAN ASST PA C\",\"PHYSICIAN ASST PAC\",\"PHYSICIAN ASST.\",\"PHYSICIAN ASST.-C\",\"PHYSICIAN ASST.-CERT\",\"PHYSICIAN ASSTISTANT\",\"PHYSICIAN EXTENDER\",\"PHYSICIAN PC\",\"PHYSICIAN SURGEON\",\"PHYSICIAN SURGEON FE\",\"PHYSICIAN, P.C.\",\"PHYSICIANASSISTANT\",\"PHYSICIAN'S ASSISTAN\",\"PHYSICIANS ASSISTANC\",\"PHYSICIANS ASSISTANT\",\"PHYSICIANS ASSITANT\",\"PHYSICIANS ASST C\",\"PHYSICIANS ASST PA\",\"PHYSISIAN ASSISTANT\",\"R.P.A.-C\",\"RPA\",\"RPA C\",\"RPAC\",\"RPA-C\",],\"PA\")\n",
    "data['nppes_credentials'] = data['nppes_credentials'].replace([\"B PHARM\",\"B PHARMACY\",\"B. PHARM\",\"B. PHARM.\",\"B. SC. PHARM\",\"B.PHARM\"\"B.PHARM., MPH\",\"B.S. PHARM\",\"B.S. PHARMACY\",\"B.SC.(PHARM), R.PH.\",\"BPHARM\",\"BPHARM, RPH\",\"BS PHARM\",\"BS PHARMACY\",\"BS, PHARMD, PHC\",\"BS,PHARMD,CGP\",\"BSC PHARMACY\",\"BSC. PHARM\",\"BSC. PHARMACY RPH\",\"BSCPHARM\",\"BSPHARM\",\"BSPHARM.\",\"D.M.D., M.D., PHARM.\",\"D.O AND PHARM. D.\",\"D.O PHARMD\",\"D.O, PHARMD,\",\"D.O., PHARM. D.\",\"D.O., PHARM.D.\",\"D.O., PHARMD\",\"D.O.,PHARM.D.,M.P.H.\",\"DDS REGISTERED PHARM\",\"DMD, DDS, PHARMD\",\"DO, PHARMD\",\"DO, PHARMD.\",\"DO,PHARMD\",\"DOCTOR OF PHARMACY\",\"DOCTORATE OF PHARM.\",\"DPM, PHARMD, AACFAS\",\"LAC, PHARM.D.\",\"M.D.  PHARM.D.\",\"M.D., M.S. PHARM.\",\"M.D., PHARM D\",\"M.D., PHARM D.\",\"M.D., PHARM.D.\",\"M.D., PHARMD\",\"M.D.,PHARM.D.\",\"M.D.,PHARMD, RPH\",\"M.PHARM R.PH\",\"M.S. PHARM\",\"M.S., PA-C, PHARMD\",\"M.SC., PHARM.D.\",\"MBBS, B. PHARM.\",\"MD /PHARMD\",\"MD PHARM D\",\"MD PHARMD\",\"MD, MTH, MPHARMSCI\",\"MD, PHARM D\",\"MD, PHARM. D\",\"MD, PHARM.D\",\"MD, PHARMD\",\"MD/PHARMD\",\"MPHARM\",\"MPHARM.\",\"MSC., PHARM.D., BCPS\",\"MSCPHARM, RPH\",\"P.A.-C.,R.PH.,PHARMD\",\"PA, PHARMD\",\"PA-C, PHARM.D.\",\"PA-C, PHARMD\",\"PH.D., B.PHARM\",\"PHARM\",\"PHARM  D.\",\"PHARM .D.\",\"PHARM D\",\"PHARM D  BCPS\",\"PHARM D / MT ASCP\",\"PHARM D,\",\"PHARM D, CGP\",\"PHARM D, DO\",\"PHARM D, MD\",\"PHARM D, RPH\",\"PHARM D.\",\"PHARM D. MBA\",\"PHARM D., RPH\",\"PHARM MD\",\"PHARM,. D.\",\"PHARM,D\",\"PHARM. D\",\"PHARM. D.\",\"PHARM. D. RPH\",\"PHARM. D., BCPS\",\"PHARM. D., D. O.\",\"PHARM. D., R.PH.\",\"PHARM. D., RPH\",\"PHARM.D\",\"PHARM.D (RPH)\",\"PHARM.D STUDENT\",\"PHARM.D,\",\"PHARM.D, BCPP\",\"PHARM.D, D.O.\",\"PHARM.D, PA-C\",\"PHARM.D, R.PH.\",\"PHARM.D, RPH\",\"PHARM.D.\",\"PHARM.D. BCPP\",\"PHARM.D., BCNP\",\"PHARM.D., BCPP\",\"PHARM.D., BCPS\",\"PHARM.D., CACP\",\"PHARM.D., CDE\",\"PHARM.D., CPP\",\"PHARM.D., D.M.D.\",\"PHARM.D., D.O.\",\"PHARM.D., D.PH.\",\"PHARM.D., J.D.\",\"PHARM.D., M.D.\",\"PHARM.D., MPH\",\"PHARM.D., PA-C\",\"PHARM.D., PHC\",\"PHARM.D., R.PH\",\"PHARM.D., R.PH.\",\"PHARM.D., R.PH.,CIP\",\"PHARM.D., RPH\",\"PHARM.D.,CACP\",\"PHARM.D.,M.S.\",\"PHARM.D.,PH.C.,R.PH.\",\"PHARM.D.,R.PH.\",\"PHARM.D.,RPH\",\"PHARM.D.; D.D.S.\",\"PHARM.D/R.PH.\",\"PHARM.D>\",\"PHARM.DR.\",\"PHARMACIST\",\"PHARMACIST  TECHNICI\",\"PHARMACIST TECH\",\"PHARMACY INTERN\",\"PHARMACY TECHNICIAN\",\"PHARMACYTECHNICIAN\",\"PHARMCIST\",\"PHARMD\",\"PHARM-D\",\"PHARMD D\",\"PHARMD MBA\",\"PHARMD PA C\",\"PHARMD PHC\",\"PHARMD RPH\",\"PHARMD, BCOP\",\"PHARMD, BCPS\",\"PHARMD, BCPS, CPP\",\"PHARMD, BCPS, RPH\",\"PHARMD, BS PHARM\",\"PHARMD, CDE\",\"PHARMD, CGP\",\"PHARMD, CPP\",\"PHARMD, CPP, BC-ADM\",\"PHARMD, DDS\",\"PHARMD, J.D.\",\"PHARMD, MBA\",\"PHARMD, MD\",\"PHARMD, MPH\",\"PHARMD, MSCR\",\"PHARMD, PC\",\"PHARMD, PHC\",\"PHARMD, PHC, CACP\",\"PHARMD, PHC, CDE\",\"PHARMD, R.PH\",\"PHARMD, R.PH.\",\"PHARMD, RPH\",\"PHARM-D, RPH\",\"PHARMD, RPH, PHC\",\"PHARMD,, D.D.S\",\"PHARMD,CACP\",\"PHARMD,MBA\",\"PHARMD.\",\"PHARMD., PHC\",\"PHARMD., R.PH.\",\"PHARMD., RPH\",\"PHARMD.,D.M.D., M.S.\",\"PHARMD/RPH\",\"PHARN.D\",\"R.PH.\",\"R.PH.,BS PHARM\",\"REG. PHARMACIST\",\"REGISTER PHARMACIST\",\"REGISTERED PHARMACIS\",\"RPH\",\"RPH (PHARMACIST)\",\"RPH BS PHARMACY\",\"RPH PHARMD,\",\"RPH, PHARM D\",\"RPH, PHARM D, PHC\",\"RPH, PHARM. D.\",\"RPH, PHARM.D\",\"RPH, PHARM.D.\",\"RPH, PHARMD\",\"RPH, PHARMD, BCPS\",\"RPH, PHC, PHARMD\",\"RPH,PHARMD\",\"RPH.\",\"RPH; PHARM.D.\",],\"PHARM D\")\n",
    "data['nppes_credentials'] = data['nppes_credentials'].replace([\"PH.D\",\"PH.D.\",],\"PHD\")\n",
    "data['nppes_credentials'] = data['nppes_credentials'].replace([\"PMHNP-BC\",],\"PMHNP\")\n",
    "data['nppes_credentials'] = data['nppes_credentials'].replace([\"PSY.D.\",],\"PSYD\")\n",
    "data['nppes_credentials'] = data['nppes_credentials'].replace([\"DPT\",\"LIC PHYSICAL THERAPI\"\"P.T.\",\"PHYSCIAL THERAPIST\"\"PHYSICAL THERAPIST\"\"PHYSICAL THERAPY AST\"],\"PT\")\n",
    "data['nppes_credentials'] = data['nppes_credentials'].replace([\"MSN\",\"R.N.\",\"RN, APN-C\",\"RN, CNS\",\"RN, MSN\",\"RN, PMHNP\"\"RNC\",\"RNC, WHNP\",\"RNCS\",],\"APRN\")\n",
    "data['nppes_credentials'] = data['nppes_credentials'].replace([\"MEDICAL STUDENT\",\"STUDENT, MEDICAL\",],\"Student\")"
   ]
  },
  {
   "cell_type": "code",
   "execution_count": 4,
   "metadata": {
    "collapsed": true
   },
   "outputs": [],
   "source": [
    "# Ranking of Qualification\n",
    "data['nppes_credentials'] = data['nppes_credentials'].str.replace('[^\\w\\s]','')\n",
    "data.loc[data['nppes_credentials'].str.contains('PHD', case=False), 'nppes_credentials'] = 'PHD'\n",
    "data.loc[data['nppes_credentials'].str.contains('DDS|DMD', case=False), 'nppes_credentials'] = 'DDS'\n",
    "data.loc[data['nppes_credentials'].str.contains('FACS', case=False), 'nppes_credentials'] = 'FACS'\n",
    "data.loc[data['nppes_credentials'].str.contains('JD', case=False), 'nppes_credentials'] = 'JD'\n",
    "data.loc[data['nppes_credentials'].str.contains('PHARM', case=False), 'nppes_credentials'] = 'PHARM D'\n",
    "data.loc[data['nppes_credentials'].str.contains('APM', case=False), 'nppes_credentials'] = 'APMPH'\n",
    "data.loc[data['nppes_credentials'].str.contains('MBBS', case=False), 'nppes_credentials'] = 'MBBS'\n",
    "data.loc[data['nppes_credentials'].str.contains('PSYD', case=False), 'nppes_credentials'] = 'PSYD'\n",
    "data.loc[data['nppes_credentials'].str.contains('PMHNP', case=False), 'nppes_credentials'] = 'PMH'\n",
    "data.loc[data['nppes_credentials'].str.contains('DPM', case=False), 'nppes_credentials'] = 'DPM'\n",
    "data.loc[data['nppes_credentials'].str.contains('DO', case=False), 'nppes_credentials'] = 'DO'\n",
    "data.loc[data['nppes_credentials'].str.contains('OD', case=False), 'nppes_credentials'] = 'OD'\n",
    "data.loc[data['nppes_credentials'].str.contains('PT', case=False), 'nppes_credentials'] = 'PT'\n",
    "data.loc[data['nppes_credentials'].str.contains('PC', case=False), 'nppes_credentials'] = 'PC'\n",
    "data.loc[data['nppes_credentials'].str.contains('PA', case=False), 'nppes_credentials'] = 'PA'\n",
    "data.loc[data['nppes_credentials'].str.contains('RN|AP|NP|NURSE|NC', case=False), 'nppes_credentials'] = 'APRN'\n",
    "data.loc[data['nppes_credentials'].str.contains('MD|MS', case=False), 'nppes_credentials'] = 'MD'\n",
    "data.loc[~data['nppes_credentials'].str.contains('NOT LISTED|PHD|DDS|FACS|JD|PHARM D|APMPH|MBBS|PSYD|PMH|DPM|DO|OD|PT|PC|PA|APRN|MD', case=False), 'nppes_credentials'] = 'OTHER'\n",
    "data['nppes_credentials'] = data['nppes_credentials'].replace([\"PMHCNS BC\",\"PMHCNSBC\",\"FPMHMP\",\"RXS PMHCNSBC\",\"PMHCNS  BC\",'PMHCNS', 'PMHCNSPP', 'CNSPMH', 'FPMHP', 'PMHN CNS', 'PMH CNSBC','FPMHND', 'PMHCNSC', 'PMHMP', 'CNS BCPMH'],\"OTHER\")"
   ]
  },
  {
   "cell_type": "markdown",
   "metadata": {},
   "source": [
    "### Dropping features that will not be impactful for modeling"
   ]
  },
  {
   "cell_type": "code",
   "execution_count": 5,
   "metadata": {
    "collapsed": true
   },
   "outputs": [],
   "source": [
    "data.drop(['npi',\n",
    "           'nppes_provider_last_org_name',\n",
    "           'nppes_provider_first_name',\n",
    "           'nppes_provider_mi',\n",
    "           'nppes_provider_street1',\n",
    "           'nppes_provider_street2',\n",
    "           'nppes_provider_zip4',\n",
    "           'nppes_provider_country',\n",
    "           'description_flag',\n",
    "           'ge65_suppress_flag',\n",
    "           'total_claim_count_ge65',\n",
    "           'total_30_day_fill_count_ge65',\n",
    "           'total_drug_cost_ge65',\n",
    "           'total_day_supply_ge65',\n",
    "           'bene_count_ge65_suppress_flag',\n",
    "           'bene_count_ge65',\n",
    "           'mapd_suppress_flag',\n",
    "           'pdp_suppress_flag',\n",
    "           'lis_suppress_flag',\n",
    "           'nonlis_suppress_flag',\n",
    "           'opioid_prescriber_rate',\n",
    "           'hrm_ge65_suppress_flag',\n",
    "           'hrm_claim_count_ge65',\n",
    "           'hrm_drug_cost_ge65',\n",
    "           'hrm_bene_ge65_suppress_flag',\n",
    "           'hrm_bene_count_ge65',\n",
    "           'antipsych_ge65_suppress_flag',\n",
    "           'antipsych_claim_count_ge65',\n",
    "           'antipsych_drug_cost_ge65',\n",
    "           'antipsych_bene_ge65_suppress_flg',\n",
    "           'antipsych_bene_count_ge65',\n",
    "           'mapd_claim_count',                   \n",
    "           'mapd_drug_cost',                      \n",
    "           'pdp_claim_count',                     \n",
    "            'pdp_drug_cost',                      \n",
    "            'lis_claim_count',                      \n",
    "            'lis_drug_cost',                        \n",
    "            'nonlis_claim_count',                   \n",
    "            'nonlis_drug_cost',                     \n",
    "            'opioid_claim_count',                  \n",
    "            'opioid_drug_cost',                     \n",
    "            'opioid_day_supply',                    \n",
    "            'opioid_bene_count',                   \n",
    "            'antibiotic_claim_count',              \n",
    "            'antibiotic_drug_cost',                 \n",
    "            'antibiotic_bene_count',\n",
    "             'beneficiary_age_less_65_count',\n",
    "             'beneficiary_age_65_74_count',\n",
    "             'beneficiary_age_75_84_count',\n",
    "             'beneficiary_age_greater_84_count', 'nppes_provider_zip5', 'nppes_provider_city'\n",
    "            ],axis = 1,inplace = True)\n",
    "\n",
    "data.index = range(len(data))\n",
    "data.replace({',':'','\\$':''},regex= True,inplace = True)"
   ]
  },
  {
   "cell_type": "markdown",
   "metadata": {},
   "source": [
    "### Assigning proper typecast for categorical (String) and nominal data (Integer)"
   ]
  },
  {
   "cell_type": "code",
   "execution_count": 6,
   "metadata": {
    "collapsed": true
   },
   "outputs": [],
   "source": [
    "data['nppes_credentials'] = data['nppes_credentials'].astype(str)\n",
    "data['nppes_provider_gender'] = data['nppes_provider_gender'].astype(str)\n",
    "data['nppes_entity_code'] = data['nppes_entity_code'].astype(str)\n",
    "data['nppes_provider_state'] = data['nppes_provider_state'].astype(str)\n",
    "data['specialty_description'] = data['specialty_description'].astype(str)\n",
    "\n",
    "data['total_drug_cost'] = data['total_drug_cost'].astype('float64')\n",
    "data['brand_drug_cost'] = data['brand_drug_cost'].astype('float64')\n",
    "\n",
    "data['beneficiary_female_count']=data['beneficiary_female_count'].astype('float')\n",
    "data['beneficiary_race_asian_pi_count'] = data['beneficiary_race_asian_pi_count'].astype('float64')\n",
    "data['beneficiary_race_hispanic_count'] = data['beneficiary_race_hispanic_count'].astype('float64')\n",
    "data['beneficiary_race_nat_ind_count'] = data['beneficiary_race_nat_ind_count'].astype('float64')\n",
    "data['beneficiary_nondual_count'] = data['beneficiary_nondual_count'].astype('float64')\n",
    "data['beneficiary_race_black_count'] = data['beneficiary_race_black_count'].astype('float64')\n",
    "data['beneficiary_race_white_count']=data['beneficiary_race_white_count'].astype('float64')\n",
    "\n",
    "data['beneficiary_race_other_count']=data['beneficiary_race_other_count'].astype('float64')\n",
    "data['generic_drug_cost'] = data['generic_drug_cost'].astype('float64')\n",
    "data['total_claim_count']=data['total_claim_count'].astype('float64')\n",
    "data['bene_count']=data['bene_count'].astype('float64')\n",
    "data['beneficiary_dual_count']=data['beneficiary_dual_count'].astype('float64')\n",
    "data['other_claim_count']=data['other_claim_count'].astype('float64')\n",
    "data['other_drug_cost'] = data['other_drug_cost'].astype('float64')\n",
    "data['nppes_provider_gender'] = data['nppes_provider_gender'].replace('nan','Org') # Nan is written for records related to organisations\n",
    "data['nppes_credentials'] = data['nppes_credentials'].replace('nan', 'Org')\n",
    "\n",
    "# No information is provided related to brand or generics, when the other_claim_count is equal to total_claim_count\n",
    "for index, row in data.iterrows():\n",
    "    if row['total_claim_count'] == row['other_claim_count']:\n",
    "        data = data.drop(index)"
   ]
  },
  {
   "cell_type": "markdown",
   "metadata": {},
   "source": [
    "### Convert categorical variable into dummy/indicator variables"
   ]
  },
  {
   "cell_type": "code",
   "execution_count": 7,
   "metadata": {
    "collapsed": true
   },
   "outputs": [],
   "source": [
    "cred_dum = pd.get_dummies(data.nppes_credentials, prefix = 'cred')\n",
    "pgend_dum = pd.get_dummies(data.nppes_provider_gender, prefix = 'pgend')\n",
    "ent_dum = pd.get_dummies(data.nppes_entity_code, prefix = 'ent')\n",
    "enrl_dum = pd.get_dummies(data.medicare_prvdr_enroll_status, prefix = 'enrl')\n",
    "state_dum = pd.get_dummies(data.nppes_provider_state, prefix = 'state')\n",
    "spec_dum = pd.get_dummies(data.specialty_description, prefix = 'spec')\n",
    "data = pd.concat([data, cred_dum], axis = 1)\n",
    "data = pd.concat([data, pgend_dum], axis = 1)\n",
    "data = pd.concat([data, ent_dum], axis = 1)\n",
    "data = pd.concat([data, enrl_dum], axis = 1)\n",
    "data = pd.concat([data, state_dum], axis = 1)\n",
    "data = pd.concat([data, spec_dum], axis = 1)\n",
    "data = data.drop(['nppes_credentials', 'nppes_provider_gender', 'nppes_entity_code', 'nppes_provider_state', 'specialty_description', 'medicare_prvdr_enroll_status'], axis = 1)"
   ]
  },
  {
   "cell_type": "markdown",
   "metadata": {},
   "source": [
    "### Declaring function to calculate average of features by removing nans"
   ]
  },
  {
   "cell_type": "code",
   "execution_count": 8,
   "metadata": {
    "collapsed": true
   },
   "outputs": [],
   "source": [
    "def remove_NaN_Values(column, data):\n",
    "    data_temp = data.dropna(subset=[column])\n",
    "    avg_bene1 = data_temp['bene_count'].mean()\n",
    "    return data_temp[column].mean(), avg_bene1"
   ]
  },
  {
   "cell_type": "markdown",
   "metadata": {},
   "source": [
    "### Calculating ratios and dealing with missing values"
   ]
  },
  {
   "cell_type": "code",
   "execution_count": 9,
   "metadata": {
    "collapsed": true
   },
   "outputs": [],
   "source": [
    "average_total, average_bene = remove_NaN_Values('total_claim_count', data)\n",
    "bene_ratio = average_bene / average_total\n",
    "average_age = data['average_age_of_beneficiaries'].mean()\n",
    "\n",
    "# We use the above define function continuously to find union of both columns used below with filled data to calculate ratio\n",
    "\n",
    "average_fem, average_bene1 = remove_NaN_Values('beneficiary_female_count', data)\n",
    "average_fem_ratio = average_fem / average_bene1\n",
    "average_male_ratio = 1- average_fem_ratio\n",
    "avg_white, avg_bene1 = remove_NaN_Values('beneficiary_race_white_count', data)\n",
    "avg_white_ratio = avg_white / avg_bene1\n",
    "avg_black, avg_bene1 = remove_NaN_Values('beneficiary_race_black_count', data)\n",
    "avg_black_ratio = avg_black / avg_bene1\n",
    "avg_asian, avg_bene1 = remove_NaN_Values('beneficiary_race_asian_pi_count', data)\n",
    "avg_asian_ratio = avg_asian / avg_bene1\n",
    "avg_hisp, avg_bene1 = remove_NaN_Values('beneficiary_race_hispanic_count', data)\n",
    "avg_hisp_ratio = avg_hisp / avg_bene1\n",
    "avg_nat, avg_bene1 = remove_NaN_Values('beneficiary_race_nat_ind_count', data)\n",
    "avg_nat_ratio = avg_nat / avg_bene1\n",
    "avg_other, avg_bene1 = remove_NaN_Values('beneficiary_race_other_count', data)\n",
    "avg_other_ratio = avg_other / avg_bene1\n",
    "avg_nondual, avg_bene1 = remove_NaN_Values('beneficiary_nondual_count', data)\n",
    "avg_nondual_ratio = avg_nondual / avg_bene1\n",
    "avg_dual, avg_bene1 = remove_NaN_Values('beneficiary_dual_count', data)\n",
    "avg_dual_ratio = avg_dual / avg_bene1\n",
    "avg_risk = data['beneficiary_average_risk_score'].mean()"
   ]
  },
  {
   "cell_type": "markdown",
   "metadata": {},
   "source": [
    "### Filling nan values with respective averages"
   ]
  },
  {
   "cell_type": "code",
   "execution_count": 10,
   "metadata": {
    "collapsed": true
   },
   "outputs": [],
   "source": [
    "data.loc[data.bene_count.isnull(), 'bene_count'] = round(bene_ratio * data['total_claim_count'],0)\n",
    "data.loc[data.beneficiary_female_count.isnull(), 'beneficiary_female_count'] = round(average_fem_ratio * data['bene_count'],0)\n",
    "data.loc[data.beneficiary_male_count.isnull(), 'beneficiary_male_count'] = round(average_male_ratio * data['bene_count'],0)\n",
    "data.loc[data.average_age_of_beneficiaries.isnull(), 'average_age_of_beneficiaries'] = round(average_age,0)\n",
    "data.loc[data.beneficiary_race_white_count.isnull(), 'beneficiary_race_white_count'] = round(avg_white_ratio * data['bene_count'],0)\n",
    "data.loc[data.beneficiary_race_black_count.isnull(), 'beneficiary_race_black_count'] = round(avg_black_ratio * data['bene_count'],0)\n",
    "data.loc[data.beneficiary_race_asian_pi_count.isnull(), 'beneficiary_race_asian_pi_count'] = round(avg_asian_ratio * data['bene_count'],0)\n",
    "data.loc[data.beneficiary_race_hispanic_count.isnull(), 'beneficiary_race_hispanic_count'] = round(avg_hisp_ratio * data['bene_count'],0)\n",
    "data.loc[data.beneficiary_race_nat_ind_count.isnull(), 'beneficiary_race_nat_ind_count'] = round(avg_nat_ratio * data['bene_count'],0)\n",
    "data.loc[data.beneficiary_race_other_count.isnull(), 'beneficiary_race_other_count'] = round(avg_other_ratio * data['bene_count'],0)\n",
    "data.loc[data.beneficiary_nondual_count.isnull(), 'beneficiary_nondual_count'] = round(avg_nondual_ratio * data['bene_count'],0)\n",
    "data.loc[data.beneficiary_dual_count.isnull(), 'beneficiary_dual_count'] = round(avg_dual_ratio * data['bene_count'],0)\n",
    "data.loc[data.beneficiary_average_risk_score.isnull(), 'beneficiary_average_risk_score'] = avg_risk"
   ]
  },
  {
   "cell_type": "markdown",
   "metadata": {},
   "source": [
    "### Creating ratios for different features"
   ]
  },
  {
   "cell_type": "code",
   "execution_count": 11,
   "metadata": {
    "collapsed": true
   },
   "outputs": [],
   "source": [
    "data = data.assign(beneficiary_female_count = lambda x: (x.beneficiary_female_count /x.bene_count))\n",
    "data['gender_ratio'] = data['beneficiary_female_count']\n",
    "data = data.drop(['beneficiary_female_count','beneficiary_male_count'], axis = 1)\n",
    "data = data.assign(beneficiary_race_white_count = lambda x: (x.beneficiary_race_white_count /x.bene_count))\n",
    "data['white_ratio'] = data['beneficiary_race_white_count']\n",
    "data = data.assign(beneficiary_race_black_count = lambda x: (x.beneficiary_race_black_count /x.bene_count))\n",
    "data['black_ratio'] = data['beneficiary_race_black_count']\n",
    "data = data.assign(beneficiary_race_asian_pi_count = lambda x: (x.beneficiary_race_asian_pi_count /x.bene_count))\n",
    "data['asian_ratio'] = data['beneficiary_race_asian_pi_count']\n",
    "data = data.assign(beneficiary_race_hispanic_count = lambda x: (x.beneficiary_race_hispanic_count /x.bene_count))\n",
    "data['hispanic_ratio'] = data['beneficiary_race_hispanic_count']\n",
    "data = data.assign(beneficiary_race_nat_ind_count = lambda x: (x.beneficiary_race_nat_ind_count /x.bene_count))\n",
    "data['nat_ind_ratio'] = data['beneficiary_race_nat_ind_count']\n",
    "data = data.assign(beneficiary_race_other_count = lambda x: (x.beneficiary_race_other_count /x.bene_count))\n",
    "data['other_ratio'] = data['beneficiary_race_other_count']\n",
    "data = data.drop(['beneficiary_race_white_count','beneficiary_race_black_count', 'beneficiary_race_asian_pi_count', 'beneficiary_race_hispanic_count', 'beneficiary_race_nat_ind_count', 'beneficiary_race_other_count'], axis = 1)\n",
    "data = data.assign(beneficiary_nondual_count = lambda x: (x.beneficiary_nondual_count /x.bene_count))\n",
    "data['nondual_insure_ratio'] = data['beneficiary_nondual_count']\n",
    "data = data.drop(['beneficiary_dual_count', 'beneficiary_nondual_count'], axis =1)"
   ]
  },
  {
   "cell_type": "markdown",
   "metadata": {},
   "source": [
    "### Dropping rows where total claim count equals other claim count"
   ]
  },
  {
   "cell_type": "code",
   "execution_count": 12,
   "metadata": {
    "collapsed": true,
    "scrolled": true
   },
   "outputs": [],
   "source": [
    "data_est = data\n",
    "data = data.drop(data[data.brand_suppress_flag == '#'].index)\n",
    "data = data.drop(data[data.brand_suppress_flag == '*'].index)\n",
    "data = data.drop(data[data.generic_suppress_flag == '#'].index)\n",
    "data = data.drop(data[data.generic_suppress_flag == '*'].index)"
   ]
  },
  {
   "cell_type": "markdown",
   "metadata": {},
   "source": [
    "### Assigning relevant typecast"
   ]
  },
  {
   "cell_type": "code",
   "execution_count": 13,
   "metadata": {
    "collapsed": true
   },
   "outputs": [],
   "source": [
    "data['brand_claim_count']=data['brand_claim_count'].astype('float64')\n",
    "data_est['brand_claim_count']=data_est['brand_claim_count'].astype('float64')\n",
    "data_est['generic_claim_count']=data_est['generic_claim_count'].astype('float64')"
   ]
  },
  {
   "cell_type": "markdown",
   "metadata": {},
   "source": [
    "### Creating new dataframe and then converting counts and costs to account for suppressed values in new dataframe"
   ]
  },
  {
   "cell_type": "code",
   "execution_count": 14,
   "metadata": {
    "collapsed": true
   },
   "outputs": [],
   "source": [
    "data_est = data_est.drop(data_est[(data_est.brand_suppress_flag == '*') & (data_est.generic_suppress_flag == '*')].index)\n",
    "\n",
    "# Function to calculate average of two column.\n",
    "def avg_cost(column, column1, data):\n",
    "    data_temp1 = data.drop(data[data[column] == 0].index)\n",
    "    data_temp1 = data_temp1.assign(avg_cost = lambda x: (x.brand_drug_cost /x.brand_claim_count))\n",
    "    return data_temp1['avg_cost'].mean()\n",
    "    \n",
    "\n",
    "avg_brand_per_claim_temp = avg_cost('brand_drug_cost', 'brand_claim_count', data)\n",
    "avg_generic_per_claim_temp = avg_cost('generic_drug_cost', 'generic_claim_count', data)\n",
    "avg_other_per_claim_temp = avg_cost('other_drug_cost', 'other_claim_count', data)\n",
    "\n",
    "data_est.loc[data_est.brand_suppress_flag =='*', 'brand_drug_cost'] = avg_brand_per_claim_temp\n",
    "data_est.loc[data_est.generic_suppress_flag=='*', 'generic_drug_cost'] = avg_generic_per_claim_temp\n",
    "data_est.loc[data_est.other_suppress_flag =='*', 'other_drug_cost'] = avg_other_per_claim_temp\n",
    "data_est.loc[data_est.other_suppress_flag=='#', 'other_drug_cost'] = data_est.total_drug_cost - data_est.brand_drug_cost - data_est.generic_drug_cost\n",
    "data_est.loc[data_est.brand_suppress_flag =='#', 'brand_drug_cost'] = data_est.total_drug_cost - data_est.generic_drug_cost - data_est.other_drug_cost\n",
    "data_est.loc[data_est.generic_suppress_flag =='#', 'generic_drug_cost'] = data_est.total_drug_cost - data_est.brand_drug_cost - data_est.other_drug_cost\n",
    "\n",
    "data_est.loc[data_est.brand_suppress_flag=='*', 'brand_claim_count'] = 1\n",
    "data_est.loc[data_est.generic_suppress_flag =='*', 'generic_claim_count'] = 1\n",
    "data_est.loc[data_est.other_suppress_flag =='#', 'other_claim_count'] = data_est.total_claim_count - data_est.brand_claim_count - data_est.generic_claim_count\n",
    "data_est.loc[data_est.other_suppress_flag =='*', 'other_claim_count'] = 1\n",
    "data_est.loc[data_est.brand_suppress_flag =='#', 'brand_claim_count'] = data_est.total_claim_count - data_est.generic_claim_count - data_est.other_claim_count\n",
    "data_est.loc[data_est.generic_suppress_flag =='#', 'generic_claim_count'] = data_est.total_claim_count - data_est.brand_claim_count - data_est.other_claim_count\n",
    "\n",
    "avg_brand_per_claim_data = avg_cost('brand_drug_cost', 'brand_claim_count', data)\n",
    "avg_brand_per_claim_est = avg_cost('brand_drug_cost', 'brand_claim_count', data_est)\n",
    "\n",
    "data = data.assign(brand_drug_cost = lambda x: (x.brand_drug_cost / avg_brand_per_claim_data))\n",
    "data['brand_drug_cost_ratio'] = data['brand_drug_cost']\n",
    "data_est = data_est.assign(brand_drug_cost = lambda x: (x.brand_drug_cost / avg_brand_per_claim_est))\n",
    "data_est['brand_drug_cost_ratio'] = data_est['brand_drug_cost']\n",
    "\n",
    "data = data.drop(['brand_drug_cost','generic_drug_cost', 'other_drug_cost', 'total_drug_cost'], axis = 1)\n",
    "data_est = data_est.drop(['brand_drug_cost','generic_drug_cost', 'other_drug_cost','total_drug_cost'], axis = 1)"
   ]
  },
  {
   "cell_type": "markdown",
   "metadata": {
    "collapsed": true
   },
   "source": [
    "### Calculating brand percentage of total and adding it to main dataframe"
   ]
  },
  {
   "cell_type": "code",
   "execution_count": 15,
   "metadata": {
    "collapsed": true,
    "scrolled": true
   },
   "outputs": [],
   "source": [
    "data_est = data_est.assign(brand_ratio = lambda x: (x.brand_claim_count /(x.total_claim_count - x.other_claim_count)))\n",
    "data = data.assign(brand_ratio = lambda x: (x.brand_claim_count /(x.total_claim_count - x.other_claim_count)))\n",
    "data_est = data_est.drop(['brand_claim_count','generic_claim_count'], axis = 1)\n",
    "data = data.drop(['brand_claim_count','generic_claim_count'], axis = 1)\n",
    "data = data.drop(['brand_suppress_flag', 'generic_suppress_flag', 'other_suppress_flag'], axis = 1)\n",
    "data_est = data_est.drop(['brand_suppress_flag', 'generic_suppress_flag', 'other_suppress_flag'], axis = 1)"
   ]
  },
  {
   "cell_type": "markdown",
   "metadata": {},
   "source": [
    "### Calculating feature correlation to target variable (as brand_ratio). Features that are not continuous will not have meaningful correlations however."
   ]
  },
  {
   "cell_type": "code",
   "execution_count": 16,
   "metadata": {},
   "outputs": [
    {
     "data": {
      "text/html": [
       "<div>\n",
       "<style>\n",
       "    .dataframe thead tr:only-child th {\n",
       "        text-align: right;\n",
       "    }\n",
       "\n",
       "    .dataframe thead th {\n",
       "        text-align: left;\n",
       "    }\n",
       "\n",
       "    .dataframe tbody tr th {\n",
       "        vertical-align: top;\n",
       "    }\n",
       "</style>\n",
       "<table border=\"1\" class=\"dataframe\">\n",
       "  <thead>\n",
       "    <tr style=\"text-align: right;\">\n",
       "      <th></th>\n",
       "      <th>white_ratio</th>\n",
       "      <th>brand_ratio</th>\n",
       "    </tr>\n",
       "  </thead>\n",
       "  <tbody>\n",
       "    <tr>\n",
       "      <th>white_ratio</th>\n",
       "      <td>1.000000</td>\n",
       "      <td>-0.078066</td>\n",
       "    </tr>\n",
       "    <tr>\n",
       "      <th>brand_ratio</th>\n",
       "      <td>-0.078066</td>\n",
       "      <td>1.000000</td>\n",
       "    </tr>\n",
       "  </tbody>\n",
       "</table>\n",
       "</div>"
      ],
      "text/plain": [
       "             white_ratio  brand_ratio\n",
       "white_ratio     1.000000    -0.078066\n",
       "brand_ratio    -0.078066     1.000000"
      ]
     },
     "execution_count": 16,
     "metadata": {},
     "output_type": "execute_result"
    }
   ],
   "source": [
    "correlation = data[['white_ratio', 'brand_ratio']].corr()\n",
    "correlation"
   ]
  },
  {
   "cell_type": "markdown",
   "metadata": {},
   "source": [
    "### Assigning quartile to each brand ratio as target variable, and dropping brand_ratio for use in classification models"
   ]
  },
  {
   "cell_type": "code",
   "execution_count": 17,
   "metadata": {
    "scrolled": true
   },
   "outputs": [],
   "source": [
    "data['quartile'] = pd.qcut(data['brand_ratio'], 4, ['1','2','3','4'])\n",
    "#data_brand_ratio=data['brand_ratio']\n",
    "data_est['quartile'] = pd.qcut(data_est['brand_ratio'], 4, ['1','2','3','4'])\n",
    "#data = data.drop('brand_ratio', axis = 1)\n",
    "#data_est = data_est.drop('brand_ratio', axis = 1)            \n",
    "data['quartile'] = data['quartile'].astype(int)\n",
    "data_est['quartile'] = data_est['quartile'].astype(int)"
   ]
  },
  {
   "cell_type": "markdown",
   "metadata": {},
   "source": [
    "### Resetting the index"
   ]
  },
  {
   "cell_type": "code",
   "execution_count": 19,
   "metadata": {},
   "outputs": [],
   "source": [
    "data.index = range(0,len(data))\n",
    "data_est.index = range(0,len(data_est))"
   ]
  },
  {
   "cell_type": "markdown",
   "metadata": {},
   "source": [
    "### Dropping features that are useful to explain doctor behavior, but not information to help for unknown events"
   ]
  },
  {
   "cell_type": "code",
   "execution_count": 20,
   "metadata": {
    "collapsed": true
   },
   "outputs": [],
   "source": [
    "data = data.drop(['brand_drug_cost_ratio', 'other_claim_count','total_claim_count','total_30_day_fill_count', 'total_day_supply',], axis = 1)\n",
    "data_est = data_est.drop(['brand_drug_cost_ratio', 'other_claim_count','total_claim_count','total_30_day_fill_count', 'total_day_supply',], axis = 1)"
   ]
  },
  {
   "cell_type": "markdown",
   "metadata": {},
   "source": [
    "### Standardizing values of remaining continuous features"
   ]
  },
  {
   "cell_type": "code",
   "execution_count": 21,
   "metadata": {
    "collapsed": true
   },
   "outputs": [],
   "source": [
    "from sklearn.preprocessing import StandardScaler\n",
    "scaler = StandardScaler()\n",
    "data[[ 'bene_count',\n",
    "       'average_age_of_beneficiaries', 'beneficiary_average_risk_score',\n",
    "       'gender_ratio', 'white_ratio', 'black_ratio', 'asian_ratio',\n",
    "       'hispanic_ratio', 'nat_ind_ratio', 'other_ratio',\n",
    "       'nondual_insure_ratio']] = scaler.fit_transform(data[['bene_count',\n",
    "       'average_age_of_beneficiaries', 'beneficiary_average_risk_score',\n",
    "       'gender_ratio', 'white_ratio', 'black_ratio', 'asian_ratio',\n",
    "       'hispanic_ratio', 'nat_ind_ratio', 'other_ratio',\n",
    "       'nondual_insure_ratio']])\n",
    "\n",
    "data_est[[ 'bene_count',\n",
    "       'average_age_of_beneficiaries', 'beneficiary_average_risk_score',\n",
    "       'gender_ratio', 'white_ratio', 'black_ratio', 'asian_ratio',\n",
    "       'hispanic_ratio', 'nat_ind_ratio', 'other_ratio',\n",
    "       'nondual_insure_ratio']] = scaler.fit_transform(data_est[['bene_count',\n",
    "       'average_age_of_beneficiaries', 'beneficiary_average_risk_score',\n",
    "       'gender_ratio', 'white_ratio', 'black_ratio', 'asian_ratio',\n",
    "       'hispanic_ratio', 'nat_ind_ratio', 'other_ratio',\n",
    "       'nondual_insure_ratio']])"
   ]
  },
  {
   "cell_type": "markdown",
   "metadata": {},
   "source": [
    "### Saving to csv files"
   ]
  },
  {
   "cell_type": "code",
   "execution_count": 22,
   "metadata": {},
   "outputs": [],
   "source": [
    "data.to_csv(\"data.csv\", sep=\",\")\n",
    "data_est.to_csv(\"data_est.csv\", sep=\",\")"
   ]
  },
  {
   "cell_type": "code",
   "execution_count": null,
   "metadata": {
    "collapsed": true
   },
   "outputs": [],
   "source": []
  }
 ],
 "metadata": {
  "kernelspec": {
   "display_name": "Python 3",
   "language": "python",
   "name": "python3"
  },
  "language_info": {
   "codemirror_mode": {
    "name": "ipython",
    "version": 3
   },
   "file_extension": ".py",
   "mimetype": "text/x-python",
   "name": "python",
   "nbconvert_exporter": "python",
   "pygments_lexer": "ipython3",
   "version": "3.6.2"
  }
 },
 "nbformat": 4,
 "nbformat_minor": 2
}
